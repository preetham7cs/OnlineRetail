{
 "cells": [
  {
   "cell_type": "markdown",
   "metadata": {},
   "source": [
    "# *** ONLINE RETAIL ***"
   ]
  },
  {
   "cell_type": "markdown",
   "metadata": {},
   "source": [
    "## IMPORT AND LOAD DATA"
   ]
  },
  {
   "cell_type": "code",
   "execution_count": 1,
   "metadata": {},
   "outputs": [],
   "source": [
    "import pandas as pd\n",
    "from mlxtend.frequent_patterns import apriori\n",
    "from mlxtend.frequent_patterns import association_rules\n",
    "from matplotlib import pyplot as plt\n",
    "\n",
    "df_real = pd.read_excel('C:\\\\OnlineRetail.xlsx',encoding = 'ISO-8859-1')"
   ]
  },
  {
   "cell_type": "code",
   "execution_count": 2,
   "metadata": {
    "scrolled": true
   },
   "outputs": [
    {
     "data": {
      "text/html": [
       "<div>\n",
       "<style scoped>\n",
       "    .dataframe tbody tr th:only-of-type {\n",
       "        vertical-align: middle;\n",
       "    }\n",
       "\n",
       "    .dataframe tbody tr th {\n",
       "        vertical-align: top;\n",
       "    }\n",
       "\n",
       "    .dataframe thead th {\n",
       "        text-align: right;\n",
       "    }\n",
       "</style>\n",
       "<table border=\"1\" class=\"dataframe\">\n",
       "  <thead>\n",
       "    <tr style=\"text-align: right;\">\n",
       "      <th></th>\n",
       "      <th>InvoiceNo</th>\n",
       "      <th>StockCode</th>\n",
       "      <th>Description</th>\n",
       "      <th>Quantity</th>\n",
       "      <th>InvoiceDate</th>\n",
       "      <th>UnitPrice</th>\n",
       "      <th>CustomerID</th>\n",
       "      <th>Country</th>\n",
       "    </tr>\n",
       "  </thead>\n",
       "  <tbody>\n",
       "    <tr>\n",
       "      <th>0</th>\n",
       "      <td>536365</td>\n",
       "      <td>85123A</td>\n",
       "      <td>WHITE HANGING HEART T-LIGHT HOLDER</td>\n",
       "      <td>6</td>\n",
       "      <td>2010-12-01 08:26:00</td>\n",
       "      <td>2.55</td>\n",
       "      <td>17850.0</td>\n",
       "      <td>United Kingdom</td>\n",
       "    </tr>\n",
       "    <tr>\n",
       "      <th>1</th>\n",
       "      <td>536365</td>\n",
       "      <td>71053</td>\n",
       "      <td>WHITE METAL LANTERN</td>\n",
       "      <td>6</td>\n",
       "      <td>2010-12-01 08:26:00</td>\n",
       "      <td>3.39</td>\n",
       "      <td>17850.0</td>\n",
       "      <td>United Kingdom</td>\n",
       "    </tr>\n",
       "    <tr>\n",
       "      <th>2</th>\n",
       "      <td>536365</td>\n",
       "      <td>84406B</td>\n",
       "      <td>CREAM CUPID HEARTS COAT HANGER</td>\n",
       "      <td>8</td>\n",
       "      <td>2010-12-01 08:26:00</td>\n",
       "      <td>2.75</td>\n",
       "      <td>17850.0</td>\n",
       "      <td>United Kingdom</td>\n",
       "    </tr>\n",
       "    <tr>\n",
       "      <th>3</th>\n",
       "      <td>536365</td>\n",
       "      <td>84029G</td>\n",
       "      <td>KNITTED UNION FLAG HOT WATER BOTTLE</td>\n",
       "      <td>6</td>\n",
       "      <td>2010-12-01 08:26:00</td>\n",
       "      <td>3.39</td>\n",
       "      <td>17850.0</td>\n",
       "      <td>United Kingdom</td>\n",
       "    </tr>\n",
       "    <tr>\n",
       "      <th>4</th>\n",
       "      <td>536365</td>\n",
       "      <td>84029E</td>\n",
       "      <td>RED WOOLLY HOTTIE WHITE HEART.</td>\n",
       "      <td>6</td>\n",
       "      <td>2010-12-01 08:26:00</td>\n",
       "      <td>3.39</td>\n",
       "      <td>17850.0</td>\n",
       "      <td>United Kingdom</td>\n",
       "    </tr>\n",
       "  </tbody>\n",
       "</table>\n",
       "</div>"
      ],
      "text/plain": [
       "  InvoiceNo StockCode                          Description  Quantity  \\\n",
       "0    536365    85123A   WHITE HANGING HEART T-LIGHT HOLDER         6   \n",
       "1    536365     71053                  WHITE METAL LANTERN         6   \n",
       "2    536365    84406B       CREAM CUPID HEARTS COAT HANGER         8   \n",
       "3    536365    84029G  KNITTED UNION FLAG HOT WATER BOTTLE         6   \n",
       "4    536365    84029E       RED WOOLLY HOTTIE WHITE HEART.         6   \n",
       "\n",
       "          InvoiceDate  UnitPrice  CustomerID         Country  \n",
       "0 2010-12-01 08:26:00       2.55     17850.0  United Kingdom  \n",
       "1 2010-12-01 08:26:00       3.39     17850.0  United Kingdom  \n",
       "2 2010-12-01 08:26:00       2.75     17850.0  United Kingdom  \n",
       "3 2010-12-01 08:26:00       3.39     17850.0  United Kingdom  \n",
       "4 2010-12-01 08:26:00       3.39     17850.0  United Kingdom  "
      ]
     },
     "execution_count": 2,
     "metadata": {},
     "output_type": "execute_result"
    }
   ],
   "source": [
    "df_real.head()"
   ]
  },
  {
   "cell_type": "markdown",
   "metadata": {},
   "source": [
    "## CLEANING AND FORMATTING DATA"
   ]
  },
  {
   "cell_type": "code",
   "execution_count": 3,
   "metadata": {},
   "outputs": [],
   "source": [
    "#Re-ordering the coloumns and creating new dataframe as df\n",
    "\n",
    "df = df_real[['StockCode','Description','Quantity','InvoiceDate','UnitPrice','CustomerID','Country','InvoiceNo']]"
   ]
  },
  {
   "cell_type": "code",
   "execution_count": 4,
   "metadata": {
    "scrolled": false
   },
   "outputs": [
    {
     "data": {
      "text/html": [
       "<div>\n",
       "<style scoped>\n",
       "    .dataframe tbody tr th:only-of-type {\n",
       "        vertical-align: middle;\n",
       "    }\n",
       "\n",
       "    .dataframe tbody tr th {\n",
       "        vertical-align: top;\n",
       "    }\n",
       "\n",
       "    .dataframe thead th {\n",
       "        text-align: right;\n",
       "    }\n",
       "</style>\n",
       "<table border=\"1\" class=\"dataframe\">\n",
       "  <thead>\n",
       "    <tr style=\"text-align: right;\">\n",
       "      <th></th>\n",
       "      <th>StockCode</th>\n",
       "      <th>Description</th>\n",
       "      <th>Quantity</th>\n",
       "      <th>InvoiceDate</th>\n",
       "      <th>UnitPrice</th>\n",
       "      <th>CustomerID</th>\n",
       "      <th>Country</th>\n",
       "      <th>InvoiceNo</th>\n",
       "    </tr>\n",
       "  </thead>\n",
       "  <tbody>\n",
       "    <tr>\n",
       "      <th>0</th>\n",
       "      <td>85123A</td>\n",
       "      <td>WHITE HANGING HEART T-LIGHT HOLDER</td>\n",
       "      <td>6</td>\n",
       "      <td>2010-12-01 08:26:00</td>\n",
       "      <td>2.55</td>\n",
       "      <td>17850.0</td>\n",
       "      <td>United Kingdom</td>\n",
       "      <td>536365</td>\n",
       "    </tr>\n",
       "    <tr>\n",
       "      <th>1</th>\n",
       "      <td>71053</td>\n",
       "      <td>WHITE METAL LANTERN</td>\n",
       "      <td>6</td>\n",
       "      <td>2010-12-01 08:26:00</td>\n",
       "      <td>3.39</td>\n",
       "      <td>17850.0</td>\n",
       "      <td>United Kingdom</td>\n",
       "      <td>536365</td>\n",
       "    </tr>\n",
       "    <tr>\n",
       "      <th>2</th>\n",
       "      <td>84406B</td>\n",
       "      <td>CREAM CUPID HEARTS COAT HANGER</td>\n",
       "      <td>8</td>\n",
       "      <td>2010-12-01 08:26:00</td>\n",
       "      <td>2.75</td>\n",
       "      <td>17850.0</td>\n",
       "      <td>United Kingdom</td>\n",
       "      <td>536365</td>\n",
       "    </tr>\n",
       "    <tr>\n",
       "      <th>3</th>\n",
       "      <td>84029G</td>\n",
       "      <td>KNITTED UNION FLAG HOT WATER BOTTLE</td>\n",
       "      <td>6</td>\n",
       "      <td>2010-12-01 08:26:00</td>\n",
       "      <td>3.39</td>\n",
       "      <td>17850.0</td>\n",
       "      <td>United Kingdom</td>\n",
       "      <td>536365</td>\n",
       "    </tr>\n",
       "    <tr>\n",
       "      <th>4</th>\n",
       "      <td>84029E</td>\n",
       "      <td>RED WOOLLY HOTTIE WHITE HEART.</td>\n",
       "      <td>6</td>\n",
       "      <td>2010-12-01 08:26:00</td>\n",
       "      <td>3.39</td>\n",
       "      <td>17850.0</td>\n",
       "      <td>United Kingdom</td>\n",
       "      <td>536365</td>\n",
       "    </tr>\n",
       "  </tbody>\n",
       "</table>\n",
       "</div>"
      ],
      "text/plain": [
       "  StockCode                          Description  Quantity  \\\n",
       "0    85123A   WHITE HANGING HEART T-LIGHT HOLDER         6   \n",
       "1     71053                  WHITE METAL LANTERN         6   \n",
       "2    84406B       CREAM CUPID HEARTS COAT HANGER         8   \n",
       "3    84029G  KNITTED UNION FLAG HOT WATER BOTTLE         6   \n",
       "4    84029E       RED WOOLLY HOTTIE WHITE HEART.         6   \n",
       "\n",
       "          InvoiceDate  UnitPrice  CustomerID         Country InvoiceNo  \n",
       "0 2010-12-01 08:26:00       2.55     17850.0  United Kingdom    536365  \n",
       "1 2010-12-01 08:26:00       3.39     17850.0  United Kingdom    536365  \n",
       "2 2010-12-01 08:26:00       2.75     17850.0  United Kingdom    536365  \n",
       "3 2010-12-01 08:26:00       3.39     17850.0  United Kingdom    536365  \n",
       "4 2010-12-01 08:26:00       3.39     17850.0  United Kingdom    536365  "
      ]
     },
     "execution_count": 4,
     "metadata": {},
     "output_type": "execute_result"
    }
   ],
   "source": [
    "df.head()"
   ]
  },
  {
   "cell_type": "code",
   "execution_count": 5,
   "metadata": {
    "scrolled": true
   },
   "outputs": [
    {
     "name": "stdout",
     "output_type": "stream",
     "text": [
      "<class 'pandas.core.frame.DataFrame'>\n",
      "RangeIndex: 541909 entries, 0 to 541908\n",
      "Data columns (total 8 columns):\n",
      " #   Column       Non-Null Count   Dtype         \n",
      "---  ------       --------------   -----         \n",
      " 0   StockCode    541909 non-null  object        \n",
      " 1   Description  540455 non-null  object        \n",
      " 2   Quantity     541909 non-null  int64         \n",
      " 3   InvoiceDate  541909 non-null  datetime64[ns]\n",
      " 4   UnitPrice    541909 non-null  float64       \n",
      " 5   CustomerID   406829 non-null  float64       \n",
      " 6   Country      541909 non-null  object        \n",
      " 7   InvoiceNo    541909 non-null  object        \n",
      "dtypes: datetime64[ns](1), float64(2), int64(1), object(4)\n",
      "memory usage: 33.1+ MB\n"
     ]
    }
   ],
   "source": [
    "df.info()"
   ]
  },
  {
   "cell_type": "code",
   "execution_count": 6,
   "metadata": {},
   "outputs": [
    {
     "data": {
      "text/plain": [
       "CustomerID     135080\n",
       "Description      1454\n",
       "InvoiceNo           0\n",
       "Country             0\n",
       "UnitPrice           0\n",
       "InvoiceDate         0\n",
       "Quantity            0\n",
       "StockCode           0\n",
       "dtype: int64"
      ]
     },
     "execution_count": 6,
     "metadata": {},
     "output_type": "execute_result"
    }
   ],
   "source": [
    "# check missing values for each column \n",
    "\n",
    "df.isnull().sum().sort_values(ascending=False)"
   ]
  },
  {
   "cell_type": "code",
   "execution_count": 7,
   "metadata": {
    "scrolled": true
   },
   "outputs": [],
   "source": [
    "# finding empty values in rows(axis defines row)\n",
    "\n",
    "df[df.isnull().any(axis=1)].head()\n",
    "\n",
    "# here we drop null values from df\n",
    "\n",
    "df = df.dropna()"
   ]
  },
  {
   "cell_type": "code",
   "execution_count": 8,
   "metadata": {},
   "outputs": [],
   "source": [
    "# customer id has floating values; convert them to string\n",
    "\n",
    "df['CustomerID'] = df['CustomerID'].astype('int64')\n",
    "df = df[df.Quantity > 0]"
   ]
  },
  {
   "cell_type": "code",
   "execution_count": 9,
   "metadata": {},
   "outputs": [],
   "source": [
    "#Removing empty invoice number rows\n",
    "\n",
    "df['Description'] = df['Description'].str.strip()\n",
    "df.dropna(axis=0, subset=['InvoiceNo'], inplace=True)\n",
    "\n",
    "#Removing credit transactions(invoice number starts with C)\n",
    "\n",
    "df['InvoiceNo'] = df['InvoiceNo'].astype('str')\n",
    "df = df[~df['InvoiceNo'].str.contains('C')]"
   ]
  },
  {
   "cell_type": "code",
   "execution_count": 10,
   "metadata": {
    "scrolled": true
   },
   "outputs": [
    {
     "data": {
      "text/html": [
       "<div>\n",
       "<style scoped>\n",
       "    .dataframe tbody tr th:only-of-type {\n",
       "        vertical-align: middle;\n",
       "    }\n",
       "\n",
       "    .dataframe tbody tr th {\n",
       "        vertical-align: top;\n",
       "    }\n",
       "\n",
       "    .dataframe thead th {\n",
       "        text-align: right;\n",
       "    }\n",
       "</style>\n",
       "<table border=\"1\" class=\"dataframe\">\n",
       "  <thead>\n",
       "    <tr style=\"text-align: right;\">\n",
       "      <th></th>\n",
       "      <th>StockCode</th>\n",
       "      <th>Description</th>\n",
       "      <th>Quantity</th>\n",
       "      <th>InvoiceDate</th>\n",
       "      <th>UnitPrice</th>\n",
       "      <th>CustomerID</th>\n",
       "      <th>Country</th>\n",
       "      <th>InvoiceNo</th>\n",
       "      <th>year</th>\n",
       "      <th>month</th>\n",
       "      <th>day</th>\n",
       "      <th>hour</th>\n",
       "    </tr>\n",
       "  </thead>\n",
       "  <tbody>\n",
       "    <tr>\n",
       "      <th>0</th>\n",
       "      <td>85123A</td>\n",
       "      <td>WHITE HANGING HEART T-LIGHT HOLDER</td>\n",
       "      <td>6</td>\n",
       "      <td>2010-12-01 08:26:00</td>\n",
       "      <td>2.55</td>\n",
       "      <td>17850</td>\n",
       "      <td>United Kingdom</td>\n",
       "      <td>536365</td>\n",
       "      <td>2010</td>\n",
       "      <td>12</td>\n",
       "      <td>1</td>\n",
       "      <td>8</td>\n",
       "    </tr>\n",
       "    <tr>\n",
       "      <th>1</th>\n",
       "      <td>71053</td>\n",
       "      <td>WHITE METAL LANTERN</td>\n",
       "      <td>6</td>\n",
       "      <td>2010-12-01 08:26:00</td>\n",
       "      <td>3.39</td>\n",
       "      <td>17850</td>\n",
       "      <td>United Kingdom</td>\n",
       "      <td>536365</td>\n",
       "      <td>2010</td>\n",
       "      <td>12</td>\n",
       "      <td>1</td>\n",
       "      <td>8</td>\n",
       "    </tr>\n",
       "    <tr>\n",
       "      <th>2</th>\n",
       "      <td>84406B</td>\n",
       "      <td>CREAM CUPID HEARTS COAT HANGER</td>\n",
       "      <td>8</td>\n",
       "      <td>2010-12-01 08:26:00</td>\n",
       "      <td>2.75</td>\n",
       "      <td>17850</td>\n",
       "      <td>United Kingdom</td>\n",
       "      <td>536365</td>\n",
       "      <td>2010</td>\n",
       "      <td>12</td>\n",
       "      <td>1</td>\n",
       "      <td>8</td>\n",
       "    </tr>\n",
       "    <tr>\n",
       "      <th>3</th>\n",
       "      <td>84029G</td>\n",
       "      <td>KNITTED UNION FLAG HOT WATER BOTTLE</td>\n",
       "      <td>6</td>\n",
       "      <td>2010-12-01 08:26:00</td>\n",
       "      <td>3.39</td>\n",
       "      <td>17850</td>\n",
       "      <td>United Kingdom</td>\n",
       "      <td>536365</td>\n",
       "      <td>2010</td>\n",
       "      <td>12</td>\n",
       "      <td>1</td>\n",
       "      <td>8</td>\n",
       "    </tr>\n",
       "    <tr>\n",
       "      <th>4</th>\n",
       "      <td>84029E</td>\n",
       "      <td>RED WOOLLY HOTTIE WHITE HEART.</td>\n",
       "      <td>6</td>\n",
       "      <td>2010-12-01 08:26:00</td>\n",
       "      <td>3.39</td>\n",
       "      <td>17850</td>\n",
       "      <td>United Kingdom</td>\n",
       "      <td>536365</td>\n",
       "      <td>2010</td>\n",
       "      <td>12</td>\n",
       "      <td>1</td>\n",
       "      <td>8</td>\n",
       "    </tr>\n",
       "  </tbody>\n",
       "</table>\n",
       "</div>"
      ],
      "text/plain": [
       "  StockCode                          Description  Quantity  \\\n",
       "0    85123A   WHITE HANGING HEART T-LIGHT HOLDER         6   \n",
       "1     71053                  WHITE METAL LANTERN         6   \n",
       "2    84406B       CREAM CUPID HEARTS COAT HANGER         8   \n",
       "3    84029G  KNITTED UNION FLAG HOT WATER BOTTLE         6   \n",
       "4    84029E       RED WOOLLY HOTTIE WHITE HEART.         6   \n",
       "\n",
       "          InvoiceDate  UnitPrice  CustomerID         Country InvoiceNo  year  \\\n",
       "0 2010-12-01 08:26:00       2.55       17850  United Kingdom    536365  2010   \n",
       "1 2010-12-01 08:26:00       3.39       17850  United Kingdom    536365  2010   \n",
       "2 2010-12-01 08:26:00       2.75       17850  United Kingdom    536365  2010   \n",
       "3 2010-12-01 08:26:00       3.39       17850  United Kingdom    536365  2010   \n",
       "4 2010-12-01 08:26:00       3.39       17850  United Kingdom    536365  2010   \n",
       "\n",
       "   month  day  hour  \n",
       "0     12    1     8  \n",
       "1     12    1     8  \n",
       "2     12    1     8  \n",
       "3     12    1     8  \n",
       "4     12    1     8  "
      ]
     },
     "execution_count": 10,
     "metadata": {},
     "output_type": "execute_result"
    }
   ],
   "source": [
    "# Adding year feature to the dataset \n",
    "\n",
    "df['year'] = df['InvoiceDate'].dt.year\n",
    "\n",
    "#Adding month and its name\n",
    "\n",
    "df['month'] = df['InvoiceDate'].dt.month\n",
    "df['day'] = df['InvoiceDate'].dt.day\n",
    "df['hour'] = df['InvoiceDate'].dt.hour\n",
    "\n",
    "df.head()\n",
    "\n",
    "\n",
    "#df['monthname'] = df['InvoiceDate'].dt.month_name()\n",
    "#del df['monthname']"
   ]
  },
  {
   "cell_type": "markdown",
   "metadata": {},
   "source": [
    "## Generating a basket of transactions"
   ]
  },
  {
   "cell_type": "code",
   "execution_count": 11,
   "metadata": {
    "scrolled": true
   },
   "outputs": [],
   "source": [
    "#Generation of a basket of transactions\n",
    "\n",
    "basket = (df\n",
    "          .groupby(['InvoiceNo', 'Description'])['Quantity']\n",
    "          .sum().unstack().reset_index().fillna(0)\n",
    "          .set_index('InvoiceNo'))\n",
    "\n",
    "#can add df[df['Country'] == 'France'] above"
   ]
  },
  {
   "cell_type": "markdown",
   "metadata": {},
   "source": [
    "## Formatting inputs as per algo requirement( 0's and 1's)"
   ]
  },
  {
   "cell_type": "code",
   "execution_count": 12,
   "metadata": {
    "scrolled": true
   },
   "outputs": [],
   "source": [
    "#CONVERTING TO 0's AND 1's\n",
    "\n",
    "def encode_units(x):\n",
    "    if x <= 0:\n",
    "        return 0\n",
    "    if x >= 1:\n",
    "        return 1\n",
    "basket_sets = basket.applymap(encode_units)\n",
    "basket_sets.drop('POSTAGE', inplace=True, axis=1)\n"
   ]
  },
  {
   "cell_type": "markdown",
   "metadata": {},
   "source": [
    "## GENERATION OF FREQUENT ITEMSET\n"
   ]
  },
  {
   "cell_type": "code",
   "execution_count": 13,
   "metadata": {},
   "outputs": [],
   "source": [
    "#GENERATION OF FREQUENT ITEMSET\n",
    "\n",
    "frequent_itemsets = apriori(basket_sets, min_support=0.02, use_colnames=True)\n",
    "rules = association_rules(frequent_itemsets ,metric=\"lift\", min_threshold=1)\n"
   ]
  },
  {
   "cell_type": "code",
   "execution_count": 24,
   "metadata": {},
   "outputs": [
    {
     "data": {
      "text/html": [
       "<div>\n",
       "<style scoped>\n",
       "    .dataframe tbody tr th:only-of-type {\n",
       "        vertical-align: middle;\n",
       "    }\n",
       "\n",
       "    .dataframe tbody tr th {\n",
       "        vertical-align: top;\n",
       "    }\n",
       "\n",
       "    .dataframe thead th {\n",
       "        text-align: right;\n",
       "    }\n",
       "</style>\n",
       "<table border=\"1\" class=\"dataframe\">\n",
       "  <thead>\n",
       "    <tr style=\"text-align: right;\">\n",
       "      <th></th>\n",
       "      <th>antecedents</th>\n",
       "      <th>consequents</th>\n",
       "      <th>antecedent support</th>\n",
       "      <th>consequent support</th>\n",
       "      <th>support</th>\n",
       "      <th>confidence</th>\n",
       "      <th>lift</th>\n",
       "      <th>leverage</th>\n",
       "      <th>conviction</th>\n",
       "    </tr>\n",
       "  </thead>\n",
       "  <tbody>\n",
       "    <tr>\n",
       "      <th>0</th>\n",
       "      <td>(ALARM CLOCK BAKELIKE GREEN)</td>\n",
       "      <td>(ALARM CLOCK BAKELIKE RED)</td>\n",
       "      <td>0.042566</td>\n",
       "      <td>0.047313</td>\n",
       "      <td>0.028593</td>\n",
       "      <td>0.671736</td>\n",
       "      <td>14.197612</td>\n",
       "      <td>0.026579</td>\n",
       "      <td>2.902200</td>\n",
       "    </tr>\n",
       "    <tr>\n",
       "      <th>1</th>\n",
       "      <td>(ALARM CLOCK BAKELIKE RED)</td>\n",
       "      <td>(ALARM CLOCK BAKELIKE GREEN)</td>\n",
       "      <td>0.047313</td>\n",
       "      <td>0.042566</td>\n",
       "      <td>0.028593</td>\n",
       "      <td>0.604333</td>\n",
       "      <td>14.197612</td>\n",
       "      <td>0.026579</td>\n",
       "      <td>2.419798</td>\n",
       "    </tr>\n",
       "    <tr>\n",
       "      <th>2</th>\n",
       "      <td>(ALARM CLOCK BAKELIKE PINK)</td>\n",
       "      <td>(ALARM CLOCK BAKELIKE RED)</td>\n",
       "      <td>0.033071</td>\n",
       "      <td>0.047313</td>\n",
       "      <td>0.021364</td>\n",
       "      <td>0.646003</td>\n",
       "      <td>13.653725</td>\n",
       "      <td>0.019799</td>\n",
       "      <td>2.691230</td>\n",
       "    </tr>\n",
       "    <tr>\n",
       "      <th>3</th>\n",
       "      <td>(ALARM CLOCK BAKELIKE RED)</td>\n",
       "      <td>(ALARM CLOCK BAKELIKE PINK)</td>\n",
       "      <td>0.047313</td>\n",
       "      <td>0.033071</td>\n",
       "      <td>0.021364</td>\n",
       "      <td>0.451539</td>\n",
       "      <td>13.653725</td>\n",
       "      <td>0.019799</td>\n",
       "      <td>1.762987</td>\n",
       "    </tr>\n",
       "    <tr>\n",
       "      <th>4</th>\n",
       "      <td>(SPACEBOY LUNCH BOX)</td>\n",
       "      <td>(DOLLY GIRL LUNCH BOX)</td>\n",
       "      <td>0.037980</td>\n",
       "      <td>0.033233</td>\n",
       "      <td>0.022874</td>\n",
       "      <td>0.602273</td>\n",
       "      <td>18.122934</td>\n",
       "      <td>0.021612</td>\n",
       "      <td>2.430729</td>\n",
       "    </tr>\n",
       "    <tr>\n",
       "      <th>5</th>\n",
       "      <td>(DOLLY GIRL LUNCH BOX)</td>\n",
       "      <td>(SPACEBOY LUNCH BOX)</td>\n",
       "      <td>0.033233</td>\n",
       "      <td>0.037980</td>\n",
       "      <td>0.022874</td>\n",
       "      <td>0.688312</td>\n",
       "      <td>18.122934</td>\n",
       "      <td>0.021612</td>\n",
       "      <td>3.086480</td>\n",
       "    </tr>\n",
       "    <tr>\n",
       "      <th>6</th>\n",
       "      <td>(GARDENERS KNEELING PAD KEEP CALM)</td>\n",
       "      <td>(GARDENERS KNEELING PAD CUP OF TEA)</td>\n",
       "      <td>0.040785</td>\n",
       "      <td>0.034258</td>\n",
       "      <td>0.024978</td>\n",
       "      <td>0.612434</td>\n",
       "      <td>17.877282</td>\n",
       "      <td>0.023581</td>\n",
       "      <td>2.491813</td>\n",
       "    </tr>\n",
       "    <tr>\n",
       "      <th>7</th>\n",
       "      <td>(GARDENERS KNEELING PAD CUP OF TEA)</td>\n",
       "      <td>(GARDENERS KNEELING PAD KEEP CALM)</td>\n",
       "      <td>0.034258</td>\n",
       "      <td>0.040785</td>\n",
       "      <td>0.024978</td>\n",
       "      <td>0.729134</td>\n",
       "      <td>17.877282</td>\n",
       "      <td>0.023581</td>\n",
       "      <td>3.541286</td>\n",
       "    </tr>\n",
       "    <tr>\n",
       "      <th>8</th>\n",
       "      <td>(GREEN REGENCY TEACUP AND SAUCER)</td>\n",
       "      <td>(PINK REGENCY TEACUP AND SAUCER)</td>\n",
       "      <td>0.037279</td>\n",
       "      <td>0.029996</td>\n",
       "      <td>0.024817</td>\n",
       "      <td>0.665702</td>\n",
       "      <td>22.193256</td>\n",
       "      <td>0.023698</td>\n",
       "      <td>2.901615</td>\n",
       "    </tr>\n",
       "    <tr>\n",
       "      <th>9</th>\n",
       "      <td>(PINK REGENCY TEACUP AND SAUCER)</td>\n",
       "      <td>(GREEN REGENCY TEACUP AND SAUCER)</td>\n",
       "      <td>0.029996</td>\n",
       "      <td>0.037279</td>\n",
       "      <td>0.024817</td>\n",
       "      <td>0.827338</td>\n",
       "      <td>22.193256</td>\n",
       "      <td>0.023698</td>\n",
       "      <td>5.575760</td>\n",
       "    </tr>\n",
       "  </tbody>\n",
       "</table>\n",
       "</div>"
      ],
      "text/plain": [
       "                           antecedents                          consequents  \\\n",
       "0         (ALARM CLOCK BAKELIKE GREEN)           (ALARM CLOCK BAKELIKE RED)   \n",
       "1           (ALARM CLOCK BAKELIKE RED)         (ALARM CLOCK BAKELIKE GREEN)   \n",
       "2          (ALARM CLOCK BAKELIKE PINK)           (ALARM CLOCK BAKELIKE RED)   \n",
       "3           (ALARM CLOCK BAKELIKE RED)          (ALARM CLOCK BAKELIKE PINK)   \n",
       "4                 (SPACEBOY LUNCH BOX)               (DOLLY GIRL LUNCH BOX)   \n",
       "5               (DOLLY GIRL LUNCH BOX)                 (SPACEBOY LUNCH BOX)   \n",
       "6   (GARDENERS KNEELING PAD KEEP CALM)  (GARDENERS KNEELING PAD CUP OF TEA)   \n",
       "7  (GARDENERS KNEELING PAD CUP OF TEA)   (GARDENERS KNEELING PAD KEEP CALM)   \n",
       "8    (GREEN REGENCY TEACUP AND SAUCER)     (PINK REGENCY TEACUP AND SAUCER)   \n",
       "9     (PINK REGENCY TEACUP AND SAUCER)    (GREEN REGENCY TEACUP AND SAUCER)   \n",
       "\n",
       "   antecedent support  consequent support   support  confidence       lift  \\\n",
       "0            0.042566            0.047313  0.028593    0.671736  14.197612   \n",
       "1            0.047313            0.042566  0.028593    0.604333  14.197612   \n",
       "2            0.033071            0.047313  0.021364    0.646003  13.653725   \n",
       "3            0.047313            0.033071  0.021364    0.451539  13.653725   \n",
       "4            0.037980            0.033233  0.022874    0.602273  18.122934   \n",
       "5            0.033233            0.037980  0.022874    0.688312  18.122934   \n",
       "6            0.040785            0.034258  0.024978    0.612434  17.877282   \n",
       "7            0.034258            0.040785  0.024978    0.729134  17.877282   \n",
       "8            0.037279            0.029996  0.024817    0.665702  22.193256   \n",
       "9            0.029996            0.037279  0.024817    0.827338  22.193256   \n",
       "\n",
       "   leverage  conviction  \n",
       "0  0.026579    2.902200  \n",
       "1  0.026579    2.419798  \n",
       "2  0.019799    2.691230  \n",
       "3  0.019799    1.762987  \n",
       "4  0.021612    2.430729  \n",
       "5  0.021612    3.086480  \n",
       "6  0.023581    2.491813  \n",
       "7  0.023581    3.541286  \n",
       "8  0.023698    2.901615  \n",
       "9  0.023698    5.575760  "
      ]
     },
     "execution_count": 24,
     "metadata": {},
     "output_type": "execute_result"
    }
   ],
   "source": [
    "rules[:10]"
   ]
  },
  {
   "cell_type": "code",
   "execution_count": 31,
   "metadata": {},
   "outputs": [
    {
     "data": {
      "text/html": [
       "<div>\n",
       "<style scoped>\n",
       "    .dataframe tbody tr th:only-of-type {\n",
       "        vertical-align: middle;\n",
       "    }\n",
       "\n",
       "    .dataframe tbody tr th {\n",
       "        vertical-align: top;\n",
       "    }\n",
       "\n",
       "    .dataframe thead th {\n",
       "        text-align: right;\n",
       "    }\n",
       "</style>\n",
       "<table border=\"1\" class=\"dataframe\">\n",
       "  <thead>\n",
       "    <tr style=\"text-align: right;\">\n",
       "      <th></th>\n",
       "      <th>antecedents</th>\n",
       "      <th>consequents</th>\n",
       "    </tr>\n",
       "  </thead>\n",
       "  <tbody>\n",
       "    <tr>\n",
       "      <th>0</th>\n",
       "      <td>(ALARM CLOCK BAKELIKE GREEN)</td>\n",
       "      <td>(ALARM CLOCK BAKELIKE RED)</td>\n",
       "    </tr>\n",
       "    <tr>\n",
       "      <th>1</th>\n",
       "      <td>(ALARM CLOCK BAKELIKE RED)</td>\n",
       "      <td>(ALARM CLOCK BAKELIKE GREEN)</td>\n",
       "    </tr>\n",
       "    <tr>\n",
       "      <th>2</th>\n",
       "      <td>(ALARM CLOCK BAKELIKE PINK)</td>\n",
       "      <td>(ALARM CLOCK BAKELIKE RED)</td>\n",
       "    </tr>\n",
       "    <tr>\n",
       "      <th>3</th>\n",
       "      <td>(ALARM CLOCK BAKELIKE RED)</td>\n",
       "      <td>(ALARM CLOCK BAKELIKE PINK)</td>\n",
       "    </tr>\n",
       "    <tr>\n",
       "      <th>4</th>\n",
       "      <td>(SPACEBOY LUNCH BOX)</td>\n",
       "      <td>(DOLLY GIRL LUNCH BOX)</td>\n",
       "    </tr>\n",
       "    <tr>\n",
       "      <th>5</th>\n",
       "      <td>(DOLLY GIRL LUNCH BOX)</td>\n",
       "      <td>(SPACEBOY LUNCH BOX)</td>\n",
       "    </tr>\n",
       "    <tr>\n",
       "      <th>6</th>\n",
       "      <td>(GARDENERS KNEELING PAD KEEP CALM)</td>\n",
       "      <td>(GARDENERS KNEELING PAD CUP OF TEA)</td>\n",
       "    </tr>\n",
       "    <tr>\n",
       "      <th>7</th>\n",
       "      <td>(GARDENERS KNEELING PAD CUP OF TEA)</td>\n",
       "      <td>(GARDENERS KNEELING PAD KEEP CALM)</td>\n",
       "    </tr>\n",
       "    <tr>\n",
       "      <th>8</th>\n",
       "      <td>(GREEN REGENCY TEACUP AND SAUCER)</td>\n",
       "      <td>(PINK REGENCY TEACUP AND SAUCER)</td>\n",
       "    </tr>\n",
       "    <tr>\n",
       "      <th>9</th>\n",
       "      <td>(PINK REGENCY TEACUP AND SAUCER)</td>\n",
       "      <td>(GREEN REGENCY TEACUP AND SAUCER)</td>\n",
       "    </tr>\n",
       "    <tr>\n",
       "      <th>10</th>\n",
       "      <td>(GREEN REGENCY TEACUP AND SAUCER)</td>\n",
       "      <td>(REGENCY CAKESTAND 3 TIER)</td>\n",
       "    </tr>\n",
       "    <tr>\n",
       "      <th>11</th>\n",
       "      <td>(REGENCY CAKESTAND 3 TIER)</td>\n",
       "      <td>(GREEN REGENCY TEACUP AND SAUCER)</td>\n",
       "    </tr>\n",
       "    <tr>\n",
       "      <th>12</th>\n",
       "      <td>(GREEN REGENCY TEACUP AND SAUCER)</td>\n",
       "      <td>(ROSES REGENCY TEACUP AND SAUCER)</td>\n",
       "    </tr>\n",
       "    <tr>\n",
       "      <th>13</th>\n",
       "      <td>(ROSES REGENCY TEACUP AND SAUCER)</td>\n",
       "      <td>(GREEN REGENCY TEACUP AND SAUCER)</td>\n",
       "    </tr>\n",
       "    <tr>\n",
       "      <th>14</th>\n",
       "      <td>(HEART OF WICKER LARGE)</td>\n",
       "      <td>(HEART OF WICKER SMALL)</td>\n",
       "    </tr>\n",
       "  </tbody>\n",
       "</table>\n",
       "</div>"
      ],
      "text/plain": [
       "                            antecedents                          consequents\n",
       "0          (ALARM CLOCK BAKELIKE GREEN)           (ALARM CLOCK BAKELIKE RED)\n",
       "1            (ALARM CLOCK BAKELIKE RED)         (ALARM CLOCK BAKELIKE GREEN)\n",
       "2           (ALARM CLOCK BAKELIKE PINK)           (ALARM CLOCK BAKELIKE RED)\n",
       "3            (ALARM CLOCK BAKELIKE RED)          (ALARM CLOCK BAKELIKE PINK)\n",
       "4                  (SPACEBOY LUNCH BOX)               (DOLLY GIRL LUNCH BOX)\n",
       "5                (DOLLY GIRL LUNCH BOX)                 (SPACEBOY LUNCH BOX)\n",
       "6    (GARDENERS KNEELING PAD KEEP CALM)  (GARDENERS KNEELING PAD CUP OF TEA)\n",
       "7   (GARDENERS KNEELING PAD CUP OF TEA)   (GARDENERS KNEELING PAD KEEP CALM)\n",
       "8     (GREEN REGENCY TEACUP AND SAUCER)     (PINK REGENCY TEACUP AND SAUCER)\n",
       "9      (PINK REGENCY TEACUP AND SAUCER)    (GREEN REGENCY TEACUP AND SAUCER)\n",
       "10    (GREEN REGENCY TEACUP AND SAUCER)           (REGENCY CAKESTAND 3 TIER)\n",
       "11           (REGENCY CAKESTAND 3 TIER)    (GREEN REGENCY TEACUP AND SAUCER)\n",
       "12    (GREEN REGENCY TEACUP AND SAUCER)    (ROSES REGENCY TEACUP AND SAUCER)\n",
       "13    (ROSES REGENCY TEACUP AND SAUCER)    (GREEN REGENCY TEACUP AND SAUCER)\n",
       "14              (HEART OF WICKER LARGE)              (HEART OF WICKER SMALL)"
      ]
     },
     "execution_count": 31,
     "metadata": {},
     "output_type": "execute_result"
    }
   ],
   "source": [
    "rules[['antecedents','consequents']][:15]\n"
   ]
  },
  {
   "cell_type": "markdown",
   "metadata": {},
   "source": [
    "## Modifying rules: sup,conf,lift etc.,"
   ]
  },
  {
   "cell_type": "code",
   "execution_count": 14,
   "metadata": {},
   "outputs": [],
   "source": [
    "#Taking the variable antecedents length\n",
    "\n",
    "rules[\"antecedent_len\"] = rules[\"antecedents\"].apply(lambda x: len(x))"
   ]
  },
  {
   "cell_type": "code",
   "execution_count": 15,
   "metadata": {
    "scrolled": true
   },
   "outputs": [
    {
     "data": {
      "text/html": [
       "<div>\n",
       "<style scoped>\n",
       "    .dataframe tbody tr th:only-of-type {\n",
       "        vertical-align: middle;\n",
       "    }\n",
       "\n",
       "    .dataframe tbody tr th {\n",
       "        vertical-align: top;\n",
       "    }\n",
       "\n",
       "    .dataframe thead th {\n",
       "        text-align: right;\n",
       "    }\n",
       "</style>\n",
       "<table border=\"1\" class=\"dataframe\">\n",
       "  <thead>\n",
       "    <tr style=\"text-align: right;\">\n",
       "      <th></th>\n",
       "      <th>antecedents</th>\n",
       "      <th>consequents</th>\n",
       "      <th>antecedent support</th>\n",
       "      <th>consequent support</th>\n",
       "      <th>support</th>\n",
       "      <th>confidence</th>\n",
       "      <th>lift</th>\n",
       "      <th>leverage</th>\n",
       "      <th>conviction</th>\n",
       "      <th>antecedent_len</th>\n",
       "    </tr>\n",
       "  </thead>\n",
       "  <tbody>\n",
       "    <tr>\n",
       "      <th>70</th>\n",
       "      <td>(PINK REGENCY TEACUP AND SAUCER, GREEN REGENCY...</td>\n",
       "      <td>(ROSES REGENCY TEACUP AND SAUCER)</td>\n",
       "      <td>0.024817</td>\n",
       "      <td>0.042242</td>\n",
       "      <td>0.02104</td>\n",
       "      <td>0.847826</td>\n",
       "      <td>20.070631</td>\n",
       "      <td>0.019992</td>\n",
       "      <td>6.293837</td>\n",
       "      <td>2</td>\n",
       "    </tr>\n",
       "    <tr>\n",
       "      <th>71</th>\n",
       "      <td>(PINK REGENCY TEACUP AND SAUCER, ROSES REGENCY...</td>\n",
       "      <td>(GREEN REGENCY TEACUP AND SAUCER)</td>\n",
       "      <td>0.023522</td>\n",
       "      <td>0.037279</td>\n",
       "      <td>0.02104</td>\n",
       "      <td>0.894495</td>\n",
       "      <td>23.994742</td>\n",
       "      <td>0.020163</td>\n",
       "      <td>9.124923</td>\n",
       "      <td>2</td>\n",
       "    </tr>\n",
       "    <tr>\n",
       "      <th>72</th>\n",
       "      <td>(GREEN REGENCY TEACUP AND SAUCER, ROSES REGENC...</td>\n",
       "      <td>(PINK REGENCY TEACUP AND SAUCER)</td>\n",
       "      <td>0.029186</td>\n",
       "      <td>0.029996</td>\n",
       "      <td>0.02104</td>\n",
       "      <td>0.720887</td>\n",
       "      <td>24.033032</td>\n",
       "      <td>0.020165</td>\n",
       "      <td>3.475313</td>\n",
       "      <td>2</td>\n",
       "    </tr>\n",
       "  </tbody>\n",
       "</table>\n",
       "</div>"
      ],
      "text/plain": [
       "                                          antecedents  \\\n",
       "70  (PINK REGENCY TEACUP AND SAUCER, GREEN REGENCY...   \n",
       "71  (PINK REGENCY TEACUP AND SAUCER, ROSES REGENCY...   \n",
       "72  (GREEN REGENCY TEACUP AND SAUCER, ROSES REGENC...   \n",
       "\n",
       "                          consequents  antecedent support  consequent support  \\\n",
       "70  (ROSES REGENCY TEACUP AND SAUCER)            0.024817            0.042242   \n",
       "71  (GREEN REGENCY TEACUP AND SAUCER)            0.023522            0.037279   \n",
       "72   (PINK REGENCY TEACUP AND SAUCER)            0.029186            0.029996   \n",
       "\n",
       "    support  confidence       lift  leverage  conviction  antecedent_len  \n",
       "70  0.02104    0.847826  20.070631  0.019992    6.293837               2  \n",
       "71  0.02104    0.894495  23.994742  0.020163    9.124923               2  \n",
       "72  0.02104    0.720887  24.033032  0.020165    3.475313               2  "
      ]
     },
     "execution_count": 15,
     "metadata": {},
     "output_type": "execute_result"
    }
   ],
   "source": [
    "#APPLYING LIFT TO CHECK STRENGTH OF THE RULE BY SPECIFYING VALUES\n",
    "\n",
    "rules[(rules['antecedent_len'] >= 2) & (rules['lift'] >= 1) &\n",
    "      (rules['confidence'] >= .5)]"
   ]
  },
  {
   "cell_type": "code",
   "execution_count": null,
   "metadata": {},
   "outputs": [],
   "source": []
  },
  {
   "cell_type": "code",
   "execution_count": null,
   "metadata": {},
   "outputs": [],
   "source": []
  },
  {
   "cell_type": "code",
   "execution_count": null,
   "metadata": {},
   "outputs": [],
   "source": []
  },
  {
   "cell_type": "code",
   "execution_count": null,
   "metadata": {},
   "outputs": [],
   "source": []
  },
  {
   "cell_type": "code",
   "execution_count": null,
   "metadata": {},
   "outputs": [],
   "source": []
  },
  {
   "cell_type": "markdown",
   "metadata": {},
   "source": [
    "# COUNTRY SPECIFIC ITEMSET GENERATION"
   ]
  },
  {
   "cell_type": "markdown",
   "metadata": {},
   "source": [
    "## Frequent Itemsets for United Kingdom"
   ]
  },
  {
   "cell_type": "code",
   "execution_count": 11,
   "metadata": {},
   "outputs": [],
   "source": [
    "#Generation of basket for United Kingdom\n",
    "\n",
    "basket_UK = (df[df['Country'] == 'United Kingdom']\n",
    "          .groupby(['InvoiceNo', 'Description'])['Quantity']\n",
    "          .sum().unstack().reset_index().fillna(0)\n",
    "          .set_index('InvoiceNo'))\n",
    "\n",
    "#can add df[df['Country'] == 'France'] above"
   ]
  },
  {
   "cell_type": "code",
   "execution_count": 12,
   "metadata": {
    "scrolled": true
   },
   "outputs": [],
   "source": [
    "#CONVERTING TO 0's AND 1's for United Kingdom\n",
    "\n",
    "def encode_units(x):\n",
    "    if x <= 0:\n",
    "        return 0\n",
    "    if x >= 1:\n",
    "        return 1\n",
    "basket_sets_UK = basket_UK.applymap(encode_units)\n",
    "basket_sets_UK.drop('POSTAGE', inplace=True, axis=1)"
   ]
  },
  {
   "cell_type": "markdown",
   "metadata": {},
   "source": [
    "#### GENERATION OF FREQUENT ITEMSET\n"
   ]
  },
  {
   "cell_type": "code",
   "execution_count": 13,
   "metadata": {},
   "outputs": [
    {
     "data": {
      "text/html": [
       "<div>\n",
       "<style scoped>\n",
       "    .dataframe tbody tr th:only-of-type {\n",
       "        vertical-align: middle;\n",
       "    }\n",
       "\n",
       "    .dataframe tbody tr th {\n",
       "        vertical-align: top;\n",
       "    }\n",
       "\n",
       "    .dataframe thead th {\n",
       "        text-align: right;\n",
       "    }\n",
       "</style>\n",
       "<table border=\"1\" class=\"dataframe\">\n",
       "  <thead>\n",
       "    <tr style=\"text-align: right;\">\n",
       "      <th></th>\n",
       "      <th>antecedents</th>\n",
       "      <th>consequents</th>\n",
       "      <th>antecedent support</th>\n",
       "      <th>consequent support</th>\n",
       "      <th>support</th>\n",
       "      <th>confidence</th>\n",
       "      <th>lift</th>\n",
       "      <th>leverage</th>\n",
       "      <th>conviction</th>\n",
       "    </tr>\n",
       "  </thead>\n",
       "  <tbody>\n",
       "    <tr>\n",
       "      <th>0</th>\n",
       "      <td>(ALARM CLOCK BAKELIKE GREEN)</td>\n",
       "      <td>(ALARM CLOCK BAKELIKE RED)</td>\n",
       "      <td>0.041444</td>\n",
       "      <td>0.045528</td>\n",
       "      <td>0.027269</td>\n",
       "      <td>0.657971</td>\n",
       "      <td>14.451925</td>\n",
       "      <td>0.025382</td>\n",
       "      <td>2.790617</td>\n",
       "    </tr>\n",
       "    <tr>\n",
       "      <th>1</th>\n",
       "      <td>(ALARM CLOCK BAKELIKE RED)</td>\n",
       "      <td>(ALARM CLOCK BAKELIKE GREEN)</td>\n",
       "      <td>0.045528</td>\n",
       "      <td>0.041444</td>\n",
       "      <td>0.027269</td>\n",
       "      <td>0.598945</td>\n",
       "      <td>14.451925</td>\n",
       "      <td>0.025382</td>\n",
       "      <td>2.390084</td>\n",
       "    </tr>\n",
       "    <tr>\n",
       "      <th>2</th>\n",
       "      <td>(GARDENERS KNEELING PAD KEEP CALM)</td>\n",
       "      <td>(GARDENERS KNEELING PAD CUP OF TEA)</td>\n",
       "      <td>0.044567</td>\n",
       "      <td>0.037660</td>\n",
       "      <td>0.027509</td>\n",
       "      <td>0.617251</td>\n",
       "      <td>16.390122</td>\n",
       "      <td>0.025831</td>\n",
       "      <td>2.514283</td>\n",
       "    </tr>\n",
       "    <tr>\n",
       "      <th>3</th>\n",
       "      <td>(GARDENERS KNEELING PAD CUP OF TEA)</td>\n",
       "      <td>(GARDENERS KNEELING PAD KEEP CALM)</td>\n",
       "      <td>0.037660</td>\n",
       "      <td>0.044567</td>\n",
       "      <td>0.027509</td>\n",
       "      <td>0.730463</td>\n",
       "      <td>16.390122</td>\n",
       "      <td>0.025831</td>\n",
       "      <td>3.544712</td>\n",
       "    </tr>\n",
       "    <tr>\n",
       "      <th>4</th>\n",
       "      <td>(ROSES REGENCY TEACUP AND SAUCER)</td>\n",
       "      <td>(GREEN REGENCY TEACUP AND SAUCER)</td>\n",
       "      <td>0.040723</td>\n",
       "      <td>0.036759</td>\n",
       "      <td>0.028590</td>\n",
       "      <td>0.702065</td>\n",
       "      <td>19.099148</td>\n",
       "      <td>0.027093</td>\n",
       "      <td>3.233057</td>\n",
       "    </tr>\n",
       "    <tr>\n",
       "      <th>5</th>\n",
       "      <td>(GREEN REGENCY TEACUP AND SAUCER)</td>\n",
       "      <td>(ROSES REGENCY TEACUP AND SAUCER)</td>\n",
       "      <td>0.036759</td>\n",
       "      <td>0.040723</td>\n",
       "      <td>0.028590</td>\n",
       "      <td>0.777778</td>\n",
       "      <td>19.099148</td>\n",
       "      <td>0.027093</td>\n",
       "      <td>4.316746</td>\n",
       "    </tr>\n",
       "    <tr>\n",
       "      <th>6</th>\n",
       "      <td>(JUMBO BAG RED RETROSPOT)</td>\n",
       "      <td>(JUMBO BAG PINK POLKADOT)</td>\n",
       "      <td>0.086912</td>\n",
       "      <td>0.048772</td>\n",
       "      <td>0.030392</td>\n",
       "      <td>0.349689</td>\n",
       "      <td>7.169917</td>\n",
       "      <td>0.026153</td>\n",
       "      <td>1.462728</td>\n",
       "    </tr>\n",
       "    <tr>\n",
       "      <th>7</th>\n",
       "      <td>(JUMBO BAG PINK POLKADOT)</td>\n",
       "      <td>(JUMBO BAG RED RETROSPOT)</td>\n",
       "      <td>0.048772</td>\n",
       "      <td>0.086912</td>\n",
       "      <td>0.030392</td>\n",
       "      <td>0.623153</td>\n",
       "      <td>7.169917</td>\n",
       "      <td>0.026153</td>\n",
       "      <td>2.422965</td>\n",
       "    </tr>\n",
       "    <tr>\n",
       "      <th>8</th>\n",
       "      <td>(LUNCH BAG PINK POLKADOT)</td>\n",
       "      <td>(LUNCH BAG  BLACK SKULL.)</td>\n",
       "      <td>0.050934</td>\n",
       "      <td>0.059823</td>\n",
       "      <td>0.026548</td>\n",
       "      <td>0.521226</td>\n",
       "      <td>8.712750</td>\n",
       "      <td>0.023501</td>\n",
       "      <td>1.963719</td>\n",
       "    </tr>\n",
       "    <tr>\n",
       "      <th>9</th>\n",
       "      <td>(LUNCH BAG  BLACK SKULL.)</td>\n",
       "      <td>(LUNCH BAG PINK POLKADOT)</td>\n",
       "      <td>0.059823</td>\n",
       "      <td>0.050934</td>\n",
       "      <td>0.026548</td>\n",
       "      <td>0.443775</td>\n",
       "      <td>8.712750</td>\n",
       "      <td>0.023501</td>\n",
       "      <td>1.706263</td>\n",
       "    </tr>\n",
       "    <tr>\n",
       "      <th>10</th>\n",
       "      <td>(LUNCH BAG RED RETROSPOT)</td>\n",
       "      <td>(LUNCH BAG  BLACK SKULL.)</td>\n",
       "      <td>0.067271</td>\n",
       "      <td>0.059823</td>\n",
       "      <td>0.029071</td>\n",
       "      <td>0.432143</td>\n",
       "      <td>7.223641</td>\n",
       "      <td>0.025046</td>\n",
       "      <td>1.655657</td>\n",
       "    </tr>\n",
       "    <tr>\n",
       "      <th>11</th>\n",
       "      <td>(LUNCH BAG  BLACK SKULL.)</td>\n",
       "      <td>(LUNCH BAG RED RETROSPOT)</td>\n",
       "      <td>0.059823</td>\n",
       "      <td>0.067271</td>\n",
       "      <td>0.029071</td>\n",
       "      <td>0.485944</td>\n",
       "      <td>7.223641</td>\n",
       "      <td>0.025046</td>\n",
       "      <td>1.814449</td>\n",
       "    </tr>\n",
       "    <tr>\n",
       "      <th>12</th>\n",
       "      <td>(LUNCH BAG PINK POLKADOT)</td>\n",
       "      <td>(LUNCH BAG RED RETROSPOT)</td>\n",
       "      <td>0.050934</td>\n",
       "      <td>0.067271</td>\n",
       "      <td>0.028290</td>\n",
       "      <td>0.555425</td>\n",
       "      <td>8.256485</td>\n",
       "      <td>0.024864</td>\n",
       "      <td>2.098021</td>\n",
       "    </tr>\n",
       "    <tr>\n",
       "      <th>13</th>\n",
       "      <td>(LUNCH BAG RED RETROSPOT)</td>\n",
       "      <td>(LUNCH BAG PINK POLKADOT)</td>\n",
       "      <td>0.067271</td>\n",
       "      <td>0.050934</td>\n",
       "      <td>0.028290</td>\n",
       "      <td>0.420536</td>\n",
       "      <td>8.256485</td>\n",
       "      <td>0.024864</td>\n",
       "      <td>1.637833</td>\n",
       "    </tr>\n",
       "    <tr>\n",
       "      <th>14</th>\n",
       "      <td>(PAPER CHAIN KIT 50'S CHRISTMAS)</td>\n",
       "      <td>(PAPER CHAIN KIT VINTAGE CHRISTMAS)</td>\n",
       "      <td>0.056760</td>\n",
       "      <td>0.040663</td>\n",
       "      <td>0.026248</td>\n",
       "      <td>0.462434</td>\n",
       "      <td>11.372321</td>\n",
       "      <td>0.023940</td>\n",
       "      <td>1.784593</td>\n",
       "    </tr>\n",
       "    <tr>\n",
       "      <th>15</th>\n",
       "      <td>(PAPER CHAIN KIT VINTAGE CHRISTMAS)</td>\n",
       "      <td>(PAPER CHAIN KIT 50'S CHRISTMAS)</td>\n",
       "      <td>0.040663</td>\n",
       "      <td>0.056760</td>\n",
       "      <td>0.026248</td>\n",
       "      <td>0.645495</td>\n",
       "      <td>11.372321</td>\n",
       "      <td>0.023940</td>\n",
       "      <td>2.660722</td>\n",
       "    </tr>\n",
       "    <tr>\n",
       "      <th>16</th>\n",
       "      <td>(WHITE HANGING HEART T-LIGHT HOLDER)</td>\n",
       "      <td>(RED HANGING HEART T-LIGHT HOLDER)</td>\n",
       "      <td>0.113160</td>\n",
       "      <td>0.038561</td>\n",
       "      <td>0.025707</td>\n",
       "      <td>0.227176</td>\n",
       "      <td>5.891366</td>\n",
       "      <td>0.021344</td>\n",
       "      <td>1.244060</td>\n",
       "    </tr>\n",
       "    <tr>\n",
       "      <th>17</th>\n",
       "      <td>(RED HANGING HEART T-LIGHT HOLDER)</td>\n",
       "      <td>(WHITE HANGING HEART T-LIGHT HOLDER)</td>\n",
       "      <td>0.038561</td>\n",
       "      <td>0.113160</td>\n",
       "      <td>0.025707</td>\n",
       "      <td>0.666667</td>\n",
       "      <td>5.891366</td>\n",
       "      <td>0.021344</td>\n",
       "      <td>2.660520</td>\n",
       "    </tr>\n",
       "    <tr>\n",
       "      <th>18</th>\n",
       "      <td>(WOODEN FRAME ANTIQUE WHITE)</td>\n",
       "      <td>(WOODEN PICTURE FRAME WHITE FINISH)</td>\n",
       "      <td>0.047090</td>\n",
       "      <td>0.051294</td>\n",
       "      <td>0.027509</td>\n",
       "      <td>0.584184</td>\n",
       "      <td>11.388845</td>\n",
       "      <td>0.025094</td>\n",
       "      <td>2.281550</td>\n",
       "    </tr>\n",
       "    <tr>\n",
       "      <th>19</th>\n",
       "      <td>(WOODEN PICTURE FRAME WHITE FINISH)</td>\n",
       "      <td>(WOODEN FRAME ANTIQUE WHITE)</td>\n",
       "      <td>0.051294</td>\n",
       "      <td>0.047090</td>\n",
       "      <td>0.027509</td>\n",
       "      <td>0.536300</td>\n",
       "      <td>11.388845</td>\n",
       "      <td>0.025094</td>\n",
       "      <td>2.055013</td>\n",
       "    </tr>\n",
       "  </tbody>\n",
       "</table>\n",
       "</div>"
      ],
      "text/plain": [
       "                             antecedents  \\\n",
       "0           (ALARM CLOCK BAKELIKE GREEN)   \n",
       "1             (ALARM CLOCK BAKELIKE RED)   \n",
       "2     (GARDENERS KNEELING PAD KEEP CALM)   \n",
       "3    (GARDENERS KNEELING PAD CUP OF TEA)   \n",
       "4      (ROSES REGENCY TEACUP AND SAUCER)   \n",
       "5      (GREEN REGENCY TEACUP AND SAUCER)   \n",
       "6              (JUMBO BAG RED RETROSPOT)   \n",
       "7              (JUMBO BAG PINK POLKADOT)   \n",
       "8              (LUNCH BAG PINK POLKADOT)   \n",
       "9              (LUNCH BAG  BLACK SKULL.)   \n",
       "10             (LUNCH BAG RED RETROSPOT)   \n",
       "11             (LUNCH BAG  BLACK SKULL.)   \n",
       "12             (LUNCH BAG PINK POLKADOT)   \n",
       "13             (LUNCH BAG RED RETROSPOT)   \n",
       "14      (PAPER CHAIN KIT 50'S CHRISTMAS)   \n",
       "15   (PAPER CHAIN KIT VINTAGE CHRISTMAS)   \n",
       "16  (WHITE HANGING HEART T-LIGHT HOLDER)   \n",
       "17    (RED HANGING HEART T-LIGHT HOLDER)   \n",
       "18          (WOODEN FRAME ANTIQUE WHITE)   \n",
       "19   (WOODEN PICTURE FRAME WHITE FINISH)   \n",
       "\n",
       "                             consequents  antecedent support  \\\n",
       "0             (ALARM CLOCK BAKELIKE RED)            0.041444   \n",
       "1           (ALARM CLOCK BAKELIKE GREEN)            0.045528   \n",
       "2    (GARDENERS KNEELING PAD CUP OF TEA)            0.044567   \n",
       "3     (GARDENERS KNEELING PAD KEEP CALM)            0.037660   \n",
       "4      (GREEN REGENCY TEACUP AND SAUCER)            0.040723   \n",
       "5      (ROSES REGENCY TEACUP AND SAUCER)            0.036759   \n",
       "6              (JUMBO BAG PINK POLKADOT)            0.086912   \n",
       "7              (JUMBO BAG RED RETROSPOT)            0.048772   \n",
       "8              (LUNCH BAG  BLACK SKULL.)            0.050934   \n",
       "9              (LUNCH BAG PINK POLKADOT)            0.059823   \n",
       "10             (LUNCH BAG  BLACK SKULL.)            0.067271   \n",
       "11             (LUNCH BAG RED RETROSPOT)            0.059823   \n",
       "12             (LUNCH BAG RED RETROSPOT)            0.050934   \n",
       "13             (LUNCH BAG PINK POLKADOT)            0.067271   \n",
       "14   (PAPER CHAIN KIT VINTAGE CHRISTMAS)            0.056760   \n",
       "15      (PAPER CHAIN KIT 50'S CHRISTMAS)            0.040663   \n",
       "16    (RED HANGING HEART T-LIGHT HOLDER)            0.113160   \n",
       "17  (WHITE HANGING HEART T-LIGHT HOLDER)            0.038561   \n",
       "18   (WOODEN PICTURE FRAME WHITE FINISH)            0.047090   \n",
       "19          (WOODEN FRAME ANTIQUE WHITE)            0.051294   \n",
       "\n",
       "    consequent support   support  confidence       lift  leverage  conviction  \n",
       "0             0.045528  0.027269    0.657971  14.451925  0.025382    2.790617  \n",
       "1             0.041444  0.027269    0.598945  14.451925  0.025382    2.390084  \n",
       "2             0.037660  0.027509    0.617251  16.390122  0.025831    2.514283  \n",
       "3             0.044567  0.027509    0.730463  16.390122  0.025831    3.544712  \n",
       "4             0.036759  0.028590    0.702065  19.099148  0.027093    3.233057  \n",
       "5             0.040723  0.028590    0.777778  19.099148  0.027093    4.316746  \n",
       "6             0.048772  0.030392    0.349689   7.169917  0.026153    1.462728  \n",
       "7             0.086912  0.030392    0.623153   7.169917  0.026153    2.422965  \n",
       "8             0.059823  0.026548    0.521226   8.712750  0.023501    1.963719  \n",
       "9             0.050934  0.026548    0.443775   8.712750  0.023501    1.706263  \n",
       "10            0.059823  0.029071    0.432143   7.223641  0.025046    1.655657  \n",
       "11            0.067271  0.029071    0.485944   7.223641  0.025046    1.814449  \n",
       "12            0.067271  0.028290    0.555425   8.256485  0.024864    2.098021  \n",
       "13            0.050934  0.028290    0.420536   8.256485  0.024864    1.637833  \n",
       "14            0.040663  0.026248    0.462434  11.372321  0.023940    1.784593  \n",
       "15            0.056760  0.026248    0.645495  11.372321  0.023940    2.660722  \n",
       "16            0.038561  0.025707    0.227176   5.891366  0.021344    1.244060  \n",
       "17            0.113160  0.025707    0.666667   5.891366  0.021344    2.660520  \n",
       "18            0.051294  0.027509    0.584184  11.388845  0.025094    2.281550  \n",
       "19            0.047090  0.027509    0.536300  11.388845  0.025094    2.055013  "
      ]
     },
     "execution_count": 13,
     "metadata": {},
     "output_type": "execute_result"
    }
   ],
   "source": [
    "#GENERATION OF FREQUENT ITEMSET FOR United Kingdom\n",
    "\n",
    "frequent_itemsets_UK = apriori(basket_sets_UK, min_support=0.025, use_colnames=True)\n",
    "rules_UK = association_rules(frequent_itemsets_UK ,metric=\"lift\", min_threshold=1)\n",
    "rules_UK"
   ]
  },
  {
   "cell_type": "markdown",
   "metadata": {},
   "source": [
    "## Frequent Itemsets for Netherland"
   ]
  },
  {
   "cell_type": "code",
   "execution_count": 19,
   "metadata": {},
   "outputs": [],
   "source": [
    "#Generation of basket for Netherlands\n",
    "\n",
    "basket_Neth = (df[df['Country'] == 'Netherlands']\n",
    "          .groupby(['InvoiceNo', 'Description'])['Quantity']\n",
    "          .sum().unstack().reset_index().fillna(0)\n",
    "          .set_index('InvoiceNo'))\n",
    "\n",
    "#can add df[df['Country'] == 'France'] above"
   ]
  },
  {
   "cell_type": "code",
   "execution_count": 20,
   "metadata": {},
   "outputs": [],
   "source": [
    "#CONVERTING TO 0's AND 1's for Netherlands\n",
    "\n",
    "def encode_units(x):\n",
    "    if x <= 0:\n",
    "        return 0\n",
    "    if x >= 1:\n",
    "        return 1\n",
    "basket_Neth = basket_Neth.applymap(encode_units)\n",
    "basket_Neth.drop('POSTAGE', inplace=True, axis=1)"
   ]
  },
  {
   "cell_type": "markdown",
   "metadata": {},
   "source": [
    "#### GENERATION OF FREQUENT ITEMSET\n"
   ]
  },
  {
   "cell_type": "code",
   "execution_count": 21,
   "metadata": {},
   "outputs": [],
   "source": [
    "#GENERATION OF FREQUENT ITEMSET FOR Netherlands\n",
    "\n",
    "frequent_itemsets_Neth = apriori(basket_Neth, min_support=0.15, use_colnames=True)\n",
    "rules_Neth = association_rules(frequent_itemsets_Neth ,metric=\"lift\", min_threshold=1)"
   ]
  },
  {
   "cell_type": "markdown",
   "metadata": {},
   "source": [
    "## Frequent Itemsets for EIRE\n"
   ]
  },
  {
   "cell_type": "code",
   "execution_count": 22,
   "metadata": {},
   "outputs": [],
   "source": [
    "#Generation of basket for Ireland\n",
    "\n",
    "basket_Ireland = (df[df['Country'] == 'EIRE']\n",
    "          .groupby(['InvoiceNo', 'Description'])['Quantity']\n",
    "          .sum().unstack().reset_index().fillna(0)\n",
    "          .set_index('InvoiceNo'))\n",
    "\n",
    "#can add df[df['Country'] == 'France'] above"
   ]
  },
  {
   "cell_type": "code",
   "execution_count": 23,
   "metadata": {},
   "outputs": [],
   "source": [
    "#CONVERTING TO 0's AND 1's for Ireland\n",
    "\n",
    "def encode_units(x):\n",
    "    if x <= 0:\n",
    "        return 0\n",
    "    if x >= 1:\n",
    "        return 1\n",
    "basket_Ireland = basket_Ireland.applymap(encode_units)\n",
    "#basket_Ireland.drop('POSTAGE', inplace=True, axis=1)"
   ]
  },
  {
   "cell_type": "markdown",
   "metadata": {},
   "source": [
    "#### GENERATION OF FREQUENT ITEMSET"
   ]
  },
  {
   "cell_type": "code",
   "execution_count": 24,
   "metadata": {},
   "outputs": [],
   "source": [
    "#GENERATION OF FREQUENT ITEMSET FOR Ireland\n",
    "\n",
    "frequent_itemsets_Ireland = apriori(basket_Ireland, min_support=0.1, use_colnames=True)\n",
    "rules_Ireland = association_rules(frequent_itemsets_Ireland ,metric=\"lift\", min_threshold=1)\n"
   ]
  },
  {
   "cell_type": "code",
   "execution_count": null,
   "metadata": {},
   "outputs": [],
   "source": []
  },
  {
   "cell_type": "markdown",
   "metadata": {},
   "source": [
    "## Frequent Itemsets for Germany"
   ]
  },
  {
   "cell_type": "code",
   "execution_count": 25,
   "metadata": {},
   "outputs": [],
   "source": [
    "#Generation of basket for Germany\n",
    "\n",
    "basket_Germany = (df[df['Country'] == 'Germany']\n",
    "          .groupby(['InvoiceNo', 'Description'])['Quantity']\n",
    "          .sum().unstack().reset_index().fillna(0)\n",
    "          .set_index('InvoiceNo'))\n",
    "\n",
    "#can add df[df['Country'] == 'France'] above"
   ]
  },
  {
   "cell_type": "code",
   "execution_count": 26,
   "metadata": {},
   "outputs": [],
   "source": [
    "#CONVERTING TO 0's AND 1's for Germany\n",
    "\n",
    "def encode_units(x):\n",
    "    if x <= 0:\n",
    "        return 0\n",
    "    if x >= 1:\n",
    "        return 1\n",
    "basket_Germany = basket_Germany.applymap(encode_units)\n",
    "basket_Germany.drop('POSTAGE', inplace=True, axis=1)"
   ]
  },
  {
   "cell_type": "markdown",
   "metadata": {},
   "source": [
    "#### GENERATION OF FREQUENT ITEMSET"
   ]
  },
  {
   "cell_type": "code",
   "execution_count": 27,
   "metadata": {},
   "outputs": [],
   "source": [
    "#GENERATION OF FREQUENT ITEMSET FOR Germany\n",
    "\n",
    "frequent_itemsets_Germany = apriori(basket_Germany, min_support=0.05, use_colnames=True)\n",
    "rules_Germany = association_rules(frequent_itemsets_Germany ,metric=\"lift\", min_threshold=1)"
   ]
  },
  {
   "cell_type": "markdown",
   "metadata": {},
   "source": [
    "## Frequent Itemsets for France\n"
   ]
  },
  {
   "cell_type": "code",
   "execution_count": 28,
   "metadata": {},
   "outputs": [],
   "source": [
    "#Generation of basket for France\n",
    "\n",
    "basket_France = (df[df['Country'] == 'France']\n",
    "          .groupby(['InvoiceNo', 'Description'])['Quantity']\n",
    "          .sum().unstack().reset_index().fillna(0)\n",
    "          .set_index('InvoiceNo'))"
   ]
  },
  {
   "cell_type": "code",
   "execution_count": 29,
   "metadata": {},
   "outputs": [],
   "source": [
    "#CONVERTING TO 0's AND 1's for France\n",
    "\n",
    "def encode_units(x):\n",
    "    if x <= 0:\n",
    "        return 0\n",
    "    if x >= 1:\n",
    "        return 1\n",
    "basket_sets_France = basket_France.applymap(encode_units)\n",
    "basket_sets_France.drop('POSTAGE', inplace=True, axis=1)"
   ]
  },
  {
   "cell_type": "markdown",
   "metadata": {},
   "source": [
    "#### GENERATION OF FREQUENT ITEMSET"
   ]
  },
  {
   "cell_type": "code",
   "execution_count": 30,
   "metadata": {},
   "outputs": [],
   "source": [
    "#GENERATION OF FREQUENT ITEMSET FOR France\n",
    "\n",
    "frequent_itemsets_France = apriori(basket_sets_France, min_support=0.1, use_colnames=True)\n",
    "rules_France = association_rules(frequent_itemsets_France ,metric=\"lift\", min_threshold=1)"
   ]
  },
  {
   "cell_type": "code",
   "execution_count": null,
   "metadata": {},
   "outputs": [],
   "source": []
  },
  {
   "cell_type": "code",
   "execution_count": null,
   "metadata": {},
   "outputs": [],
   "source": []
  },
  {
   "cell_type": "code",
   "execution_count": null,
   "metadata": {},
   "outputs": [],
   "source": []
  },
  {
   "cell_type": "code",
   "execution_count": null,
   "metadata": {},
   "outputs": [],
   "source": []
  },
  {
   "cell_type": "markdown",
   "metadata": {},
   "source": [
    "# DATA ANALYSIS"
   ]
  },
  {
   "cell_type": "code",
   "execution_count": 31,
   "metadata": {},
   "outputs": [],
   "source": [
    "#Adding a Column name with total to calculate prices.\n",
    "\n",
    "Total = df['Quantity'] * df['UnitPrice']\n",
    "df.insert(loc=7,column='Total',value=Total)\n",
    "\n",
    "df = df[['CustomerID','Quantity','Description','UnitPrice','Total','InvoiceDate','Country','InvoiceNo','StockCode','month','year','day','hour']]"
   ]
  },
  {
   "cell_type": "code",
   "execution_count": 32,
   "metadata": {
    "scrolled": false
   },
   "outputs": [
    {
     "data": {
      "text/html": [
       "<div>\n",
       "<style scoped>\n",
       "    .dataframe tbody tr th:only-of-type {\n",
       "        vertical-align: middle;\n",
       "    }\n",
       "\n",
       "    .dataframe tbody tr th {\n",
       "        vertical-align: top;\n",
       "    }\n",
       "\n",
       "    .dataframe thead th {\n",
       "        text-align: right;\n",
       "    }\n",
       "</style>\n",
       "<table border=\"1\" class=\"dataframe\">\n",
       "  <thead>\n",
       "    <tr style=\"text-align: right;\">\n",
       "      <th></th>\n",
       "      <th>CustomerID</th>\n",
       "      <th>Quantity</th>\n",
       "      <th>Description</th>\n",
       "      <th>UnitPrice</th>\n",
       "      <th>Total</th>\n",
       "      <th>InvoiceDate</th>\n",
       "      <th>Country</th>\n",
       "      <th>InvoiceNo</th>\n",
       "      <th>StockCode</th>\n",
       "      <th>month</th>\n",
       "      <th>year</th>\n",
       "      <th>day</th>\n",
       "      <th>hour</th>\n",
       "    </tr>\n",
       "  </thead>\n",
       "  <tbody>\n",
       "    <tr>\n",
       "      <th>0</th>\n",
       "      <td>17850</td>\n",
       "      <td>6</td>\n",
       "      <td>WHITE HANGING HEART T-LIGHT HOLDER</td>\n",
       "      <td>2.55</td>\n",
       "      <td>15.30</td>\n",
       "      <td>2010-12-01 08:26:00</td>\n",
       "      <td>United Kingdom</td>\n",
       "      <td>536365</td>\n",
       "      <td>85123A</td>\n",
       "      <td>12</td>\n",
       "      <td>2010</td>\n",
       "      <td>1</td>\n",
       "      <td>8</td>\n",
       "    </tr>\n",
       "    <tr>\n",
       "      <th>1</th>\n",
       "      <td>17850</td>\n",
       "      <td>6</td>\n",
       "      <td>WHITE METAL LANTERN</td>\n",
       "      <td>3.39</td>\n",
       "      <td>20.34</td>\n",
       "      <td>2010-12-01 08:26:00</td>\n",
       "      <td>United Kingdom</td>\n",
       "      <td>536365</td>\n",
       "      <td>71053</td>\n",
       "      <td>12</td>\n",
       "      <td>2010</td>\n",
       "      <td>1</td>\n",
       "      <td>8</td>\n",
       "    </tr>\n",
       "    <tr>\n",
       "      <th>2</th>\n",
       "      <td>17850</td>\n",
       "      <td>8</td>\n",
       "      <td>CREAM CUPID HEARTS COAT HANGER</td>\n",
       "      <td>2.75</td>\n",
       "      <td>22.00</td>\n",
       "      <td>2010-12-01 08:26:00</td>\n",
       "      <td>United Kingdom</td>\n",
       "      <td>536365</td>\n",
       "      <td>84406B</td>\n",
       "      <td>12</td>\n",
       "      <td>2010</td>\n",
       "      <td>1</td>\n",
       "      <td>8</td>\n",
       "    </tr>\n",
       "    <tr>\n",
       "      <th>3</th>\n",
       "      <td>17850</td>\n",
       "      <td>6</td>\n",
       "      <td>KNITTED UNION FLAG HOT WATER BOTTLE</td>\n",
       "      <td>3.39</td>\n",
       "      <td>20.34</td>\n",
       "      <td>2010-12-01 08:26:00</td>\n",
       "      <td>United Kingdom</td>\n",
       "      <td>536365</td>\n",
       "      <td>84029G</td>\n",
       "      <td>12</td>\n",
       "      <td>2010</td>\n",
       "      <td>1</td>\n",
       "      <td>8</td>\n",
       "    </tr>\n",
       "    <tr>\n",
       "      <th>4</th>\n",
       "      <td>17850</td>\n",
       "      <td>6</td>\n",
       "      <td>RED WOOLLY HOTTIE WHITE HEART.</td>\n",
       "      <td>3.39</td>\n",
       "      <td>20.34</td>\n",
       "      <td>2010-12-01 08:26:00</td>\n",
       "      <td>United Kingdom</td>\n",
       "      <td>536365</td>\n",
       "      <td>84029E</td>\n",
       "      <td>12</td>\n",
       "      <td>2010</td>\n",
       "      <td>1</td>\n",
       "      <td>8</td>\n",
       "    </tr>\n",
       "  </tbody>\n",
       "</table>\n",
       "</div>"
      ],
      "text/plain": [
       "   CustomerID  Quantity                          Description  UnitPrice  \\\n",
       "0       17850         6   WHITE HANGING HEART T-LIGHT HOLDER       2.55   \n",
       "1       17850         6                  WHITE METAL LANTERN       3.39   \n",
       "2       17850         8       CREAM CUPID HEARTS COAT HANGER       2.75   \n",
       "3       17850         6  KNITTED UNION FLAG HOT WATER BOTTLE       3.39   \n",
       "4       17850         6       RED WOOLLY HOTTIE WHITE HEART.       3.39   \n",
       "\n",
       "   Total         InvoiceDate         Country InvoiceNo StockCode  month  year  \\\n",
       "0  15.30 2010-12-01 08:26:00  United Kingdom    536365    85123A     12  2010   \n",
       "1  20.34 2010-12-01 08:26:00  United Kingdom    536365     71053     12  2010   \n",
       "2  22.00 2010-12-01 08:26:00  United Kingdom    536365    84406B     12  2010   \n",
       "3  20.34 2010-12-01 08:26:00  United Kingdom    536365    84029G     12  2010   \n",
       "4  20.34 2010-12-01 08:26:00  United Kingdom    536365    84029E     12  2010   \n",
       "\n",
       "   day  hour  \n",
       "0    1     8  \n",
       "1    1     8  \n",
       "2    1     8  \n",
       "3    1     8  \n",
       "4    1     8  "
      ]
     },
     "execution_count": 32,
     "metadata": {},
     "output_type": "execute_result"
    }
   ],
   "source": [
    "df.head()"
   ]
  },
  {
   "cell_type": "markdown",
   "metadata": {},
   "source": [
    "### Countries sorted by quantities"
   ]
  },
  {
   "cell_type": "code",
   "execution_count": 33,
   "metadata": {
    "scrolled": true
   },
   "outputs": [
    {
     "data": {
      "text/plain": [
       "Country\n",
       "United Kingdom          4269472\n",
       "Netherlands              200937\n",
       "EIRE                     140525\n",
       "Germany                  119263\n",
       "France                   111472\n",
       "Australia                 84209\n",
       "Sweden                    36083\n",
       "Switzerland               30083\n",
       "Spain                     27951\n",
       "Japan                     26016\n",
       "Belgium                   23237\n",
       "Norway                    19338\n",
       "Portugal                  16122\n",
       "Finland                   10704\n",
       "Channel Islands            9491\n",
       "Denmark                    8235\n",
       "Italy                      8112\n",
       "Cyprus                     6361\n",
       "Singapore                  5241\n",
       "Austria                    4881\n",
       "Israel                     4046\n",
       "Poland                     3684\n",
       "Canada                     2763\n",
       "Iceland                    2458\n",
       "USA                        2458\n",
       "Unspecified                1789\n",
       "Greece                     1557\n",
       "United Arab Emirates        982\n",
       "Malta                       970\n",
       "Czech Republic              671\n",
       "Lithuania                   652\n",
       "European Community          499\n",
       "Lebanon                     386\n",
       "Brazil                      356\n",
       "RSA                         352\n",
       "Bahrain                     260\n",
       "Saudi Arabia                 80\n",
       "Name: Quantity, dtype: int64"
      ]
     },
     "execution_count": 33,
     "metadata": {},
     "output_type": "execute_result"
    }
   ],
   "source": [
    "#Countries sorted by quantities\n",
    "\n",
    "salesort = df.groupby(['Country'])['Quantity'].sum().sort_values(ascending = False)\n",
    "salesort"
   ]
  },
  {
   "cell_type": "code",
   "execution_count": 34,
   "metadata": {},
   "outputs": [],
   "source": [
    "#salesort.plot(kind = 'bar', title = 'Quantities of countries')"
   ]
  },
  {
   "cell_type": "markdown",
   "metadata": {},
   "source": [
    "### Top 5 countries"
   ]
  },
  {
   "cell_type": "code",
   "execution_count": 35,
   "metadata": {
    "scrolled": false
   },
   "outputs": [
    {
     "data": {
      "text/plain": [
       "<matplotlib.axes._subplots.AxesSubplot at 0x17ff3ea2b48>"
      ]
     },
     "execution_count": 35,
     "metadata": {},
     "output_type": "execute_result"
    },
    {
     "data": {
      "image/png": "[encoded data removed]",
      "text/plain": [
       "<Figure size 432x288 with 1 Axes>"
      ]
     },
     "metadata": {
      "needs_background": "light"
     },
     "output_type": "display_data"
    }
   ],
   "source": [
    "salesort[:5].plot(kind = 'bar', title = 'Overperforming countries', color='c')"
   ]
  },
  {
   "cell_type": "markdown",
   "metadata": {},
   "source": [
    "### Bottom 5 countries"
   ]
  },
  {
   "cell_type": "code",
   "execution_count": 36,
   "metadata": {
    "scrolled": true
   },
   "outputs": [
    {
     "data": {
      "text/plain": [
       "<matplotlib.axes._subplots.AxesSubplot at 0x17ff2c04788>"
      ]
     },
     "execution_count": 36,
     "metadata": {},
     "output_type": "execute_result"
    },
    {
     "data": {
      "image/png": "[encoded data removed]",
      "text/plain": [
       "<Figure size 432x288 with 1 Axes>"
      ]
     },
     "metadata": {
      "needs_background": "light"
     },
     "output_type": "display_data"
    }
   ],
   "source": [
    "salesort[32:].plot(kind = 'bar', title = 'Underperforming countries', color='red')\n"
   ]
  },
  {
   "cell_type": "code",
   "execution_count": null,
   "metadata": {},
   "outputs": [],
   "source": []
  },
  {
   "cell_type": "markdown",
   "metadata": {},
   "source": [
    "### Analysis on number of orders"
   ]
  },
  {
   "cell_type": "markdown",
   "metadata": {},
   "source": [
    "###### Number of orders by each customer (used customer id and invoice number)"
   ]
  },
  {
   "cell_type": "code",
   "execution_count": 37,
   "metadata": {},
   "outputs": [
    {
     "data": {
      "text/plain": [
       "CustomerID  Country       \n",
       "12346       United Kingdom      1\n",
       "12347       Iceland           182\n",
       "12348       Finland            31\n",
       "12349       Italy              73\n",
       "12350       Norway             17\n",
       "Name: InvoiceNo, dtype: int64"
      ]
     },
     "execution_count": 37,
     "metadata": {},
     "output_type": "execute_result"
    }
   ],
   "source": [
    "df.groupby(['CustomerID','Country'], as_index=True)['InvoiceNo'].count().head()"
   ]
  },
  {
   "cell_type": "code",
   "execution_count": 38,
   "metadata": {},
   "outputs": [
    {
     "data": {
      "image/png": "[encoded data removed]",
      "text/plain": [
       "<Figure size 1224x504 with 1 Axes>"
      ]
     },
     "metadata": {
      "needs_background": "light"
     },
     "output_type": "display_data"
    }
   ],
   "source": [
    "orders = df.groupby(['CustomerID','Country'], as_index=False)['InvoiceNo'].count()\n",
    "plt.subplots(figsize=(17,7))\n",
    "plt.style.use('seaborn')\n",
    "plt.plot(orders.CustomerID, orders.InvoiceNo)\n",
    "plt.xlabel('Customers ID',color='black')\n",
    "plt.ylabel('Number of Orders', color='black')\n",
    "plt.title('Number of Orders for different Customers',color='black')\n",
    "plt.show()"
   ]
  },
  {
   "cell_type": "code",
   "execution_count": 39,
   "metadata": {},
   "outputs": [
    {
     "data": {
      "text/html": [
       "<div>\n",
       "<style scoped>\n",
       "    .dataframe tbody tr th:only-of-type {\n",
       "        vertical-align: middle;\n",
       "    }\n",
       "\n",
       "    .dataframe tbody tr th {\n",
       "        vertical-align: top;\n",
       "    }\n",
       "\n",
       "    .dataframe thead th {\n",
       "        text-align: right;\n",
       "    }\n",
       "</style>\n",
       "<table border=\"1\" class=\"dataframe\">\n",
       "  <thead>\n",
       "    <tr style=\"text-align: right;\">\n",
       "      <th></th>\n",
       "      <th>CustomerID</th>\n",
       "      <th>Country</th>\n",
       "      <th>InvoiceNo</th>\n",
       "    </tr>\n",
       "  </thead>\n",
       "  <tbody>\n",
       "    <tr>\n",
       "      <th>4019</th>\n",
       "      <td>17841</td>\n",
       "      <td>United Kingdom</td>\n",
       "      <td>7847</td>\n",
       "    </tr>\n",
       "    <tr>\n",
       "      <th>1888</th>\n",
       "      <td>14911</td>\n",
       "      <td>EIRE</td>\n",
       "      <td>5677</td>\n",
       "    </tr>\n",
       "    <tr>\n",
       "      <th>1298</th>\n",
       "      <td>14096</td>\n",
       "      <td>United Kingdom</td>\n",
       "      <td>5111</td>\n",
       "    </tr>\n",
       "    <tr>\n",
       "      <th>334</th>\n",
       "      <td>12748</td>\n",
       "      <td>United Kingdom</td>\n",
       "      <td>4596</td>\n",
       "    </tr>\n",
       "    <tr>\n",
       "      <th>1670</th>\n",
       "      <td>14606</td>\n",
       "      <td>United Kingdom</td>\n",
       "      <td>2700</td>\n",
       "    </tr>\n",
       "  </tbody>\n",
       "</table>\n",
       "</div>"
      ],
      "text/plain": [
       "      CustomerID         Country  InvoiceNo\n",
       "4019       17841  United Kingdom       7847\n",
       "1888       14911            EIRE       5677\n",
       "1298       14096  United Kingdom       5111\n",
       "334        12748  United Kingdom       4596\n",
       "1670       14606  United Kingdom       2700"
      ]
     },
     "execution_count": 39,
     "metadata": {},
     "output_type": "execute_result"
    }
   ],
   "source": [
    "orders.sort_values(by='InvoiceNo', ascending=False).head()"
   ]
  },
  {
   "cell_type": "markdown",
   "metadata": {},
   "source": [
    "### Top 5 customers with highest orders"
   ]
  },
  {
   "cell_type": "code",
   "execution_count": 40,
   "metadata": {},
   "outputs": [
    {
     "data": {
      "text/plain": [
       "<matplotlib.axes._subplots.AxesSubplot at 0x17ff3d8cac8>"
      ]
     },
     "execution_count": 40,
     "metadata": {},
     "output_type": "execute_result"
    },
    {
     "data": {
      "image/png": "[encoded data removed]",
      "text/plain": [
       "<Figure size 576x396 with 1 Axes>"
      ]
     },
     "metadata": {},
     "output_type": "display_data"
    }
   ],
   "source": [
    "df.groupby(['CustomerID','Country'])['InvoiceNo'].count().sort_values(ascending = False).head().plot(kind = 'bar', color='tomato')"
   ]
  },
  {
   "cell_type": "markdown",
   "metadata": {},
   "source": [
    "### Money spent by various customers"
   ]
  },
  {
   "cell_type": "code",
   "execution_count": 41,
   "metadata": {},
   "outputs": [
    {
     "data": {
      "image/png": "[encoded data removed]",
      "text/plain": [
       "<Figure size 1224x504 with 1 Axes>"
      ]
     },
     "metadata": {},
     "output_type": "display_data"
    }
   ],
   "source": [
    "Amount = df.groupby(['CustomerID','Country'], as_index=False)['Total'].sum()\n",
    "\n",
    "plt.subplots(figsize=(17,7))\n",
    "plt.plot(Amount.CustomerID, Amount.Total)\n",
    "plt.xlabel('Customer ID')\n",
    "plt.ylabel('Money spent (Dollar)')\n",
    "plt.title('Money Spent for different Customers')\n",
    "plt.show()"
   ]
  },
  {
   "cell_type": "markdown",
   "metadata": {},
   "source": [
    "### Top 5 customers who spent the most"
   ]
  },
  {
   "cell_type": "code",
   "execution_count": 42,
   "metadata": {
    "scrolled": true
   },
   "outputs": [
    {
     "data": {
      "text/html": [
       "<div>\n",
       "<style scoped>\n",
       "    .dataframe tbody tr th:only-of-type {\n",
       "        vertical-align: middle;\n",
       "    }\n",
       "\n",
       "    .dataframe tbody tr th {\n",
       "        vertical-align: top;\n",
       "    }\n",
       "\n",
       "    .dataframe thead th {\n",
       "        text-align: right;\n",
       "    }\n",
       "</style>\n",
       "<table border=\"1\" class=\"dataframe\">\n",
       "  <thead>\n",
       "    <tr style=\"text-align: right;\">\n",
       "      <th></th>\n",
       "      <th>CustomerID</th>\n",
       "      <th>Country</th>\n",
       "      <th>Total</th>\n",
       "    </tr>\n",
       "  </thead>\n",
       "  <tbody>\n",
       "    <tr>\n",
       "      <th>1698</th>\n",
       "      <td>14646</td>\n",
       "      <td>Netherlands</td>\n",
       "      <td>280206.02</td>\n",
       "    </tr>\n",
       "    <tr>\n",
       "      <th>4210</th>\n",
       "      <td>18102</td>\n",
       "      <td>United Kingdom</td>\n",
       "      <td>259657.30</td>\n",
       "    </tr>\n",
       "    <tr>\n",
       "      <th>3737</th>\n",
       "      <td>17450</td>\n",
       "      <td>United Kingdom</td>\n",
       "      <td>194550.79</td>\n",
       "    </tr>\n",
       "    <tr>\n",
       "      <th>3017</th>\n",
       "      <td>16446</td>\n",
       "      <td>United Kingdom</td>\n",
       "      <td>168472.50</td>\n",
       "    </tr>\n",
       "    <tr>\n",
       "      <th>1888</th>\n",
       "      <td>14911</td>\n",
       "      <td>EIRE</td>\n",
       "      <td>143825.06</td>\n",
       "    </tr>\n",
       "  </tbody>\n",
       "</table>\n",
       "</div>"
      ],
      "text/plain": [
       "      CustomerID         Country      Total\n",
       "1698       14646     Netherlands  280206.02\n",
       "4210       18102  United Kingdom  259657.30\n",
       "3737       17450  United Kingdom  194550.79\n",
       "3017       16446  United Kingdom  168472.50\n",
       "1888       14911            EIRE  143825.06"
      ]
     },
     "execution_count": 42,
     "metadata": {},
     "output_type": "execute_result"
    }
   ],
   "source": [
    "Amount.sort_values('Total', ascending=False).head()"
   ]
  },
  {
   "cell_type": "code",
   "execution_count": 43,
   "metadata": {
    "scrolled": false
   },
   "outputs": [
    {
     "data": {
      "text/plain": [
       "<matplotlib.axes._subplots.AxesSubplot at 0x17ff48bee08>"
      ]
     },
     "execution_count": 43,
     "metadata": {},
     "output_type": "execute_result"
    },
    {
     "data": {
      "image/png": "[encoded data removed]",
      "text/plain": [
       "<Figure size 576x396 with 1 Axes>"
      ]
     },
     "metadata": {},
     "output_type": "display_data"
    }
   ],
   "source": [
    "df.groupby(['CustomerID','Country'])['Total'].sum().sort_values(ascending = False).head().plot(kind = 'bar', color='tomato')"
   ]
  },
  {
   "cell_type": "markdown",
   "metadata": {},
   "source": [
    "### Top 25 Most sold products by Quantity"
   ]
  },
  {
   "cell_type": "code",
   "execution_count": 44,
   "metadata": {
    "scrolled": false
   },
   "outputs": [
    {
     "data": {
      "text/plain": [
       "Text(0, 0.5, 'Quantity')"
      ]
     },
     "execution_count": 44,
     "metadata": {},
     "output_type": "execute_result"
    },
    {
     "data": {
      "image/png": "[encoded data removed]",
      "text/plain": [
       "<Figure size 576x396 with 1 Axes>"
      ]
     },
     "metadata": {},
     "output_type": "display_data"
    }
   ],
   "source": [
    "most_sold = df.groupby(['Description'])['Quantity'].sum().sort_values(ascending = False)\n",
    "top25 = most_sold[0:25].plot(kind = 'bar', color='powderblue')\n",
    "top25.set_xlabel(\"Product Name\")\n",
    "top25.set_ylabel(\"Quantity\")"
   ]
  },
  {
   "cell_type": "markdown",
   "metadata": {},
   "source": [
    "## DIVE DEEPER"
   ]
  },
  {
   "cell_type": "markdown",
   "metadata": {},
   "source": [
    "### Monthly sales Analysis"
   ]
  },
  {
   "cell_type": "code",
   "execution_count": 45,
   "metadata": {},
   "outputs": [
    {
     "data": {
      "text/plain": [
       "Text(0.5, 1.0, 'Monthly Sales')"
      ]
     },
     "execution_count": 45,
     "metadata": {},
     "output_type": "execute_result"
    },
    {
     "data": {
      "image/png": "[encoded data removed]",
      "text/plain": [
       "<Figure size 864x504 with 1 Axes>"
      ]
     },
     "metadata": {},
     "output_type": "display_data"
    }
   ],
   "source": [
    "df['monthname'] = df['InvoiceDate'].dt.month_name()\n",
    "\n",
    "monthly = df.groupby(['monthname','year'])['Total'].sum().plot(kind = 'bar', color = 'turquoise', figsize=(12,7))\n",
    "monthly.set_xlabel(\"Month and Year\",size=16)\n",
    "monthly.set_ylabel(\"Money\",size=16)\n",
    "monthly.set_title(\"Monthly Sales\",size=18)"
   ]
  },
  {
   "cell_type": "markdown",
   "metadata": {},
   "source": [
    "### Sales for Each day"
   ]
  },
  {
   "cell_type": "code",
   "execution_count": 46,
   "metadata": {},
   "outputs": [
    {
     "data": {
      "text/plain": [
       "Text(0.5, 1.0, 'Daily Sales')"
      ]
     },
     "execution_count": 46,
     "metadata": {},
     "output_type": "execute_result"
    },
    {
     "data": {
      "image/png": "[encoded data removed]",
      "text/plain": [
       "<Figure size 864x504 with 1 Axes>"
      ]
     },
     "metadata": {},
     "output_type": "display_data"
    }
   ],
   "source": [
    "#Added day name attribute to dataframe\n",
    "\n",
    "df['dayname'] = df['InvoiceDate'].dt.day_name()\n",
    "\n",
    "daily = df.groupby('InvoiceNo')['dayname'].unique().value_counts().sort_index().plot(kind = 'bar',color = 'c', figsize=(12,7))\n",
    "daily.set_xlabel(\"Day\",size=16)\n",
    "daily.set_ylabel(\"Order Count\",size=16)\n",
    "daily.set_title(\"Daily Sales\",size=18)"
   ]
  },
  {
   "cell_type": "markdown",
   "metadata": {},
   "source": [
    "### Orders Each Hour"
   ]
  },
  {
   "cell_type": "code",
   "execution_count": 47,
   "metadata": {},
   "outputs": [
    {
     "data": {
      "image/png": "[encoded data removed]",
      "text/plain": [
       "<Figure size 864x504 with 1 Axes>"
      ]
     },
     "metadata": {},
     "output_type": "display_data"
    }
   ],
   "source": [
    "hourly = df.groupby('InvoiceNo')['hour'].unique().value_counts().iloc[:-1].sort_index().plot(kind = 'bar',color = 'aqua', figsize=(12,7))\n",
    "hourly.set_xlabel(\"Hour\",size=16)\n",
    "hourly.set_ylabel(\"Order Count\",size=16)\n",
    "hourly.set_title(\"Hourly sales pattern\",size=18)\n",
    "hourly.set_xticklabels(range(6,21), rotation='horizontal', fontsize=15)\n",
    "plt.show()\n",
    "\n"
   ]
  },
  {
   "cell_type": "markdown",
   "metadata": {},
   "source": [
    "### Checking sales of a specific product over the year"
   ]
  },
  {
   "cell_type": "code",
   "execution_count": 48,
   "metadata": {
    "scrolled": true
   },
   "outputs": [
    {
     "data": {
      "text/plain": [
       "<matplotlib.axes._subplots.AxesSubplot at 0x17ff0bf5288>"
      ]
     },
     "execution_count": 48,
     "metadata": {},
     "output_type": "execute_result"
    },
    {
     "data": {
      "image/png": "[encoded data removed]",
      "text/plain": [
       "<Figure size 936x504 with 1 Axes>"
      ]
     },
     "metadata": {},
     "output_type": "display_data"
    }
   ],
   "source": [
    "df[df['Description'] == \"WHITE HANGING HEART T-LIGHT HOLDER\"].groupby(['monthname','year'])['Total'].sum().plot(kind = 'bar',color = 'gold', figsize=(13,7))"
   ]
  },
  {
   "cell_type": "code",
   "execution_count": null,
   "metadata": {},
   "outputs": [],
   "source": []
  },
  {
   "cell_type": "code",
   "execution_count": null,
   "metadata": {},
   "outputs": [],
   "source": []
  },
  {
   "cell_type": "code",
   "execution_count": null,
   "metadata": {},
   "outputs": [],
   "source": []
  },
  {
   "cell_type": "code",
   "execution_count": null,
   "metadata": {},
   "outputs": [],
   "source": []
  },
  {
   "cell_type": "code",
   "execution_count": null,
   "metadata": {},
   "outputs": [],
   "source": []
  },
  {
   "cell_type": "code",
   "execution_count": null,
   "metadata": {},
   "outputs": [],
   "source": []
  },
  {
   "cell_type": "code",
   "execution_count": null,
   "metadata": {},
   "outputs": [],
   "source": []
  },
  {
   "cell_type": "code",
   "execution_count": null,
   "metadata": {},
   "outputs": [],
   "source": []
  },
  {
   "cell_type": "code",
   "execution_count": 49,
   "metadata": {
    "scrolled": false
   },
   "outputs": [
    {
     "data": {
      "text/plain": [
       "monthname\n",
       "August                   [2.08, 1.79]\n",
       "December           [1.79, 2.08, 4.13]\n",
       "July                     [2.08, 1.79]\n",
       "June                     [1.79, 2.08]\n",
       "May                      [2.08, 1.79]\n",
       "November           [2.08, 1.79, 4.13]\n",
       "October      [4.13, 1.79, 2.08, 1.67]\n",
       "September          [2.08, 1.79, 4.13]\n",
       "Name: UnitPrice, dtype: object"
      ]
     },
     "execution_count": 49,
     "metadata": {},
     "output_type": "execute_result"
    }
   ],
   "source": [
    "r = df[df['Description'] == \"RABBIT NIGHT LIGHT\"].groupby(['monthname'])['UnitPrice'].unique()\n",
    "r"
   ]
  },
  {
   "cell_type": "code",
   "execution_count": 50,
   "metadata": {},
   "outputs": [
    {
     "data": {
      "text/plain": [
       "Country\n",
       "United Kingdom    2391\n",
       "Iceland             36\n",
       "Name: Quantity, dtype: int64"
      ]
     },
     "execution_count": 50,
     "metadata": {},
     "output_type": "execute_result"
    }
   ],
   "source": [
    "s = df[df['Description'] == \"NAMASTE SWAGAT INCENSE\"].groupby(['Country'])['Quantity'].sum().sort_values(ascending = False)\n",
    "s"
   ]
  },
  {
   "cell_type": "code",
   "execution_count": 51,
   "metadata": {},
   "outputs": [
    {
     "data": {
      "text/plain": [
       "<matplotlib.axes._subplots.AxesSubplot at 0x17ff2b1b508>"
      ]
     },
     "execution_count": 51,
     "metadata": {},
     "output_type": "execute_result"
    },
    {
     "data": {
      "image/png": "[encoded data removed]",
      "text/plain": [
       "<Figure size 576x396 with 1 Axes>"
      ]
     },
     "metadata": {},
     "output_type": "display_data"
    }
   ],
   "source": [
    "df.groupby(['month','year'])['Total'].sum().plot(kind = 'bar', title = 'Sales month wise')"
   ]
  },
  {
   "cell_type": "code",
   "execution_count": 52,
   "metadata": {},
   "outputs": [],
   "source": [
    "#df[df['Description'] == \"WHITE HANGING HEART T-LIGHT HOLDER\"].groupby(['monthname','year'])['Total'].sum().plot(kind = 'bar',color = 'aqua', figsize=(13,7))"
   ]
  },
  {
   "cell_type": "code",
   "execution_count": 53,
   "metadata": {},
   "outputs": [
    {
     "data": {
      "text/plain": [
       "Description\n",
       "PAPER CRAFT , LITTLE BIRDIE            80995\n",
       "MEDIUM CERAMIC TOP STORAGE JAR         77916\n",
       "WORLD WAR 2 GLIDERS ASSTD DESIGNS      54415\n",
       "JUMBO BAG RED RETROSPOT                46181\n",
       "WHITE HANGING HEART T-LIGHT HOLDER     36725\n",
       "ASSORTED COLOUR BIRD ORNAMENT          35362\n",
       "PACK OF 72 RETROSPOT CAKE CASES        33693\n",
       "POPCORN HOLDER                         30931\n",
       "RABBIT NIGHT LIGHT                     27202\n",
       "MINI PAINT SET VINTAGE                 26076\n",
       "PACK OF 12 LONDON TISSUES              25345\n",
       "PACK OF 60 PINK PAISLEY CAKE CASES     24264\n",
       "BROCADE RING PURSE                     22963\n",
       "VICTORIAN GLASS HANGING T-LIGHT        22433\n",
       "ASSORTED COLOURS SILK FAN              21876\n",
       "RED  HARMONICA IN BOX                  20975\n",
       "JUMBO BAG PINK POLKADOT                20165\n",
       "SMALL POPCORN HOLDER                   18252\n",
       "LUNCH BAG RED RETROSPOT                17697\n",
       "60 TEATIME FAIRY CAKE CASES            17689\n",
       "JUMBO BAG STRAWBERRY                   16807\n",
       "HEART OF WICKER SMALL                  16775\n",
       "GROW A FLYTRAP OR SUNFLOWER IN TIN     15940\n",
       "PAPER CHAIN KIT 50'S CHRISTMAS         15617\n",
       "COLOUR GLASS T-LIGHT HOLDER HANGING    15611\n",
       "Name: Quantity, dtype: int64"
      ]
     },
     "execution_count": 53,
     "metadata": {},
     "output_type": "execute_result"
    }
   ],
   "source": [
    "most_sold[:25]"
   ]
  },
  {
   "cell_type": "code",
   "execution_count": 54,
   "metadata": {},
   "outputs": [
    {
     "data": {
      "text/html": [
       "<div>\n",
       "<style scoped>\n",
       "    .dataframe tbody tr th:only-of-type {\n",
       "        vertical-align: middle;\n",
       "    }\n",
       "\n",
       "    .dataframe tbody tr th {\n",
       "        vertical-align: top;\n",
       "    }\n",
       "\n",
       "    .dataframe thead th {\n",
       "        text-align: right;\n",
       "    }\n",
       "</style>\n",
       "<table border=\"1\" class=\"dataframe\">\n",
       "  <thead>\n",
       "    <tr style=\"text-align: right;\">\n",
       "      <th></th>\n",
       "      <th>CustomerID</th>\n",
       "      <th>Quantity</th>\n",
       "      <th>Description</th>\n",
       "      <th>UnitPrice</th>\n",
       "      <th>Total</th>\n",
       "      <th>InvoiceDate</th>\n",
       "      <th>Country</th>\n",
       "      <th>InvoiceNo</th>\n",
       "      <th>StockCode</th>\n",
       "      <th>month</th>\n",
       "      <th>year</th>\n",
       "      <th>day</th>\n",
       "      <th>hour</th>\n",
       "      <th>monthname</th>\n",
       "      <th>dayname</th>\n",
       "    </tr>\n",
       "  </thead>\n",
       "  <tbody>\n",
       "    <tr>\n",
       "      <th>0</th>\n",
       "      <td>17850</td>\n",
       "      <td>6</td>\n",
       "      <td>WHITE HANGING HEART T-LIGHT HOLDER</td>\n",
       "      <td>2.55</td>\n",
       "      <td>15.30</td>\n",
       "      <td>2010-12-01 08:26:00</td>\n",
       "      <td>United Kingdom</td>\n",
       "      <td>536365</td>\n",
       "      <td>85123A</td>\n",
       "      <td>12</td>\n",
       "      <td>2010</td>\n",
       "      <td>1</td>\n",
       "      <td>8</td>\n",
       "      <td>December</td>\n",
       "      <td>Wednesday</td>\n",
       "    </tr>\n",
       "    <tr>\n",
       "      <th>1</th>\n",
       "      <td>17850</td>\n",
       "      <td>6</td>\n",
       "      <td>WHITE METAL LANTERN</td>\n",
       "      <td>3.39</td>\n",
       "      <td>20.34</td>\n",
       "      <td>2010-12-01 08:26:00</td>\n",
       "      <td>United Kingdom</td>\n",
       "      <td>536365</td>\n",
       "      <td>71053</td>\n",
       "      <td>12</td>\n",
       "      <td>2010</td>\n",
       "      <td>1</td>\n",
       "      <td>8</td>\n",
       "      <td>December</td>\n",
       "      <td>Wednesday</td>\n",
       "    </tr>\n",
       "    <tr>\n",
       "      <th>2</th>\n",
       "      <td>17850</td>\n",
       "      <td>8</td>\n",
       "      <td>CREAM CUPID HEARTS COAT HANGER</td>\n",
       "      <td>2.75</td>\n",
       "      <td>22.00</td>\n",
       "      <td>2010-12-01 08:26:00</td>\n",
       "      <td>United Kingdom</td>\n",
       "      <td>536365</td>\n",
       "      <td>84406B</td>\n",
       "      <td>12</td>\n",
       "      <td>2010</td>\n",
       "      <td>1</td>\n",
       "      <td>8</td>\n",
       "      <td>December</td>\n",
       "      <td>Wednesday</td>\n",
       "    </tr>\n",
       "    <tr>\n",
       "      <th>3</th>\n",
       "      <td>17850</td>\n",
       "      <td>6</td>\n",
       "      <td>KNITTED UNION FLAG HOT WATER BOTTLE</td>\n",
       "      <td>3.39</td>\n",
       "      <td>20.34</td>\n",
       "      <td>2010-12-01 08:26:00</td>\n",
       "      <td>United Kingdom</td>\n",
       "      <td>536365</td>\n",
       "      <td>84029G</td>\n",
       "      <td>12</td>\n",
       "      <td>2010</td>\n",
       "      <td>1</td>\n",
       "      <td>8</td>\n",
       "      <td>December</td>\n",
       "      <td>Wednesday</td>\n",
       "    </tr>\n",
       "    <tr>\n",
       "      <th>4</th>\n",
       "      <td>17850</td>\n",
       "      <td>6</td>\n",
       "      <td>RED WOOLLY HOTTIE WHITE HEART.</td>\n",
       "      <td>3.39</td>\n",
       "      <td>20.34</td>\n",
       "      <td>2010-12-01 08:26:00</td>\n",
       "      <td>United Kingdom</td>\n",
       "      <td>536365</td>\n",
       "      <td>84029E</td>\n",
       "      <td>12</td>\n",
       "      <td>2010</td>\n",
       "      <td>1</td>\n",
       "      <td>8</td>\n",
       "      <td>December</td>\n",
       "      <td>Wednesday</td>\n",
       "    </tr>\n",
       "  </tbody>\n",
       "</table>\n",
       "</div>"
      ],
      "text/plain": [
       "   CustomerID  Quantity                          Description  UnitPrice  \\\n",
       "0       17850         6   WHITE HANGING HEART T-LIGHT HOLDER       2.55   \n",
       "1       17850         6                  WHITE METAL LANTERN       3.39   \n",
       "2       17850         8       CREAM CUPID HEARTS COAT HANGER       2.75   \n",
       "3       17850         6  KNITTED UNION FLAG HOT WATER BOTTLE       3.39   \n",
       "4       17850         6       RED WOOLLY HOTTIE WHITE HEART.       3.39   \n",
       "\n",
       "   Total         InvoiceDate         Country InvoiceNo StockCode  month  year  \\\n",
       "0  15.30 2010-12-01 08:26:00  United Kingdom    536365    85123A     12  2010   \n",
       "1  20.34 2010-12-01 08:26:00  United Kingdom    536365     71053     12  2010   \n",
       "2  22.00 2010-12-01 08:26:00  United Kingdom    536365    84406B     12  2010   \n",
       "3  20.34 2010-12-01 08:26:00  United Kingdom    536365    84029G     12  2010   \n",
       "4  20.34 2010-12-01 08:26:00  United Kingdom    536365    84029E     12  2010   \n",
       "\n",
       "   day  hour monthname    dayname  \n",
       "0    1     8  December  Wednesday  \n",
       "1    1     8  December  Wednesday  \n",
       "2    1     8  December  Wednesday  \n",
       "3    1     8  December  Wednesday  \n",
       "4    1     8  December  Wednesday  "
      ]
     },
     "execution_count": 54,
     "metadata": {},
     "output_type": "execute_result"
    }
   ],
   "source": [
    "df[0:5]"
   ]
  },
  {
   "cell_type": "code",
   "execution_count": 55,
   "metadata": {},
   "outputs": [
    {
     "data": {
      "text/plain": [
       "Country\n",
       "United Kingdom    7.308392e+06\n",
       "Netherlands       2.854463e+05\n",
       "EIRE              2.655459e+05\n",
       "Germany           2.288671e+05\n",
       "France            2.090240e+05\n",
       "Name: Total, dtype: float64"
      ]
     },
     "execution_count": 55,
     "metadata": {},
     "output_type": "execute_result"
    }
   ],
   "source": [
    "orders = df.groupby(['Country'])['Total'].sum().sort_values(ascending = False)\n",
    "orders[:5]"
   ]
  },
  {
   "cell_type": "code",
   "execution_count": 56,
   "metadata": {},
   "outputs": [],
   "source": [
    "#df['UnitPrice'].plot()"
   ]
  },
  {
   "cell_type": "code",
   "execution_count": 57,
   "metadata": {},
   "outputs": [],
   "source": [
    "#rules_France[:2]"
   ]
  },
  {
   "cell_type": "code",
   "execution_count": 58,
   "metadata": {},
   "outputs": [],
   "source": [
    "#rules_UK[:2]"
   ]
  },
  {
   "cell_type": "code",
   "execution_count": 59,
   "metadata": {},
   "outputs": [],
   "source": [
    "#len(df.Description.unique())"
   ]
  },
  {
   "cell_type": "code",
   "execution_count": null,
   "metadata": {},
   "outputs": [],
   "source": []
  }
 ],
 "metadata": {
  "kernelspec": {
   "display_name": "Python 3",
   "language": "python",
   "name": "python3"
  },
  "language_info": {
   "codemirror_mode": {
    "name": "ipython",
    "version": 3
   },
   "file_extension": ".py",
   "mimetype": "text/x-python",
   "name": "python",
   "nbconvert_exporter": "python",
   "pygments_lexer": "ipython3",
   "version": "3.7.6"
  }
 },
 "nbformat": 4,
 "nbformat_minor": 4
}
